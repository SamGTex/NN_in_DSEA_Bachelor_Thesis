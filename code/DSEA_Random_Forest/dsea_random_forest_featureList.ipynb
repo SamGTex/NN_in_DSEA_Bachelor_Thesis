{
 "cells": [
  {
   "cell_type": "code",
   "execution_count": 2,
   "metadata": {},
   "outputs": [],
   "source": [
    "# workaround if you have not yet installed CherenkovDeconvolution.py but want to try it from this notebook\n",
    "import sys\n",
    "sys.path.insert(0,'/net/nfshome/home/shaefs/CherenkovDeconvolution.py')"
   ]
  },
  {
   "cell_type": "code",
   "execution_count": 3,
   "metadata": {},
   "outputs": [],
   "source": [
    "from cherenkovdeconvolution import dsea\n",
    "import cherenkovdeconvolution.stepsize as stepsize\n",
    "\n",
    "import numpy as np\n",
    "np.random.seed(42)\n",
    "\n",
    "import matplotlib.pyplot as plt\n",
    "\n",
    "import pandas as pd"
   ]
  },
  {
   "cell_type": "code",
   "execution_count": 4,
   "metadata": {},
   "outputs": [],
   "source": [
    "# Feature Selection\n",
    "feature_list = ['SplineMPEDirectHitsICE.n_dir_doms', \n",
    "                        'VariousVariables.Cone_Angle',\n",
    "                        'SplineMPECramerRaoParams.variance_theta',\n",
    "                        'Borderness.Q_ratio_in_border',\n",
    "                        'SplineMPETruncatedEnergy_SPICEMie_BINS_MuEres.value',\n",
    "                        'SplineMPETruncatedEnergy_SPICEMie_DOMS_Neutrino.energy',\n",
    "                        'SplineMPEDirectHitsICB.n_late_doms',\n",
    "                        'Dustyness.n_doms_in_dust',\n",
    "                        'LineFitGeoSplit1Params.n_hits',\n",
    "                        'SplineMPEDirectHitsICC.dir_track_hit_distribution_smoothness',\n",
    "                        'SPEFit2GeoSplit1BayesianFitParams.logl',\n",
    "                        'SplineMPECharacteristicsIC.avg_dom_dist_q_tot_dom']"
   ]
  },
  {
   "cell_type": "code",
   "execution_count": 5,
   "metadata": {},
   "outputs": [],
   "source": [
    "fields = feature_list + ['MCPrimary.energy']"
   ]
  },
  {
   "cell_type": "code",
   "execution_count": 6,
   "metadata": {},
   "outputs": [
    {
     "data": {
      "text/html": [
       "<div>\n",
       "<style scoped>\n",
       "    .dataframe tbody tr th:only-of-type {\n",
       "        vertical-align: middle;\n",
       "    }\n",
       "\n",
       "    .dataframe tbody tr th {\n",
       "        vertical-align: top;\n",
       "    }\n",
       "\n",
       "    .dataframe thead th {\n",
       "        text-align: right;\n",
       "    }\n",
       "</style>\n",
       "<table border=\"1\" class=\"dataframe\">\n",
       "  <thead>\n",
       "    <tr style=\"text-align: right;\">\n",
       "      <th></th>\n",
       "      <th>SplineMPECramerRaoParams.variance_theta</th>\n",
       "      <th>SplineMPETruncatedEnergy_SPICEMie_DOMS_Neutrino.energy</th>\n",
       "      <th>MCPrimary.energy</th>\n",
       "      <th>SplineMPEDirectHitsICC.dir_track_hit_distribution_smoothness</th>\n",
       "      <th>SplineMPETruncatedEnergy_SPICEMie_BINS_MuEres.value</th>\n",
       "      <th>SplineMPECharacteristicsIC.avg_dom_dist_q_tot_dom</th>\n",
       "      <th>LineFitGeoSplit1Params.n_hits</th>\n",
       "      <th>SplineMPEDirectHitsICB.n_late_doms</th>\n",
       "      <th>SplineMPEDirectHitsICE.n_dir_doms</th>\n",
       "      <th>Borderness.Q_ratio_in_border</th>\n",
       "      <th>SPEFit2GeoSplit1BayesianFitParams.logl</th>\n",
       "      <th>Dustyness.n_doms_in_dust</th>\n",
       "      <th>VariousVariables.Cone_Angle</th>\n",
       "    </tr>\n",
       "  </thead>\n",
       "  <tbody>\n",
       "    <tr>\n",
       "      <th>0</th>\n",
       "      <td>0.000138</td>\n",
       "      <td>20601.845970</td>\n",
       "      <td>3086.645078</td>\n",
       "      <td>-0.147665</td>\n",
       "      <td>0.397322</td>\n",
       "      <td>41.003142</td>\n",
       "      <td>19.0</td>\n",
       "      <td>34.0</td>\n",
       "      <td>20.0</td>\n",
       "      <td>0.101743</td>\n",
       "      <td>158.569898</td>\n",
       "      <td>0.175000</td>\n",
       "      <td>0.022686</td>\n",
       "    </tr>\n",
       "    <tr>\n",
       "      <th>1</th>\n",
       "      <td>0.003101</td>\n",
       "      <td>9461.487291</td>\n",
       "      <td>193.041166</td>\n",
       "      <td>0.344174</td>\n",
       "      <td>0.545559</td>\n",
       "      <td>50.324590</td>\n",
       "      <td>39.0</td>\n",
       "      <td>13.0</td>\n",
       "      <td>11.0</td>\n",
       "      <td>0.011322</td>\n",
       "      <td>272.450606</td>\n",
       "      <td>0.057143</td>\n",
       "      <td>0.097690</td>\n",
       "    </tr>\n",
       "    <tr>\n",
       "      <th>2</th>\n",
       "      <td>0.000325</td>\n",
       "      <td>43222.679757</td>\n",
       "      <td>862.503704</td>\n",
       "      <td>0.281681</td>\n",
       "      <td>0.463602</td>\n",
       "      <td>39.265226</td>\n",
       "      <td>21.0</td>\n",
       "      <td>20.0</td>\n",
       "      <td>17.0</td>\n",
       "      <td>0.618235</td>\n",
       "      <td>73.385557</td>\n",
       "      <td>0.217391</td>\n",
       "      <td>0.049914</td>\n",
       "    </tr>\n",
       "    <tr>\n",
       "      <th>3</th>\n",
       "      <td>0.000066</td>\n",
       "      <td>9929.465219</td>\n",
       "      <td>288.757353</td>\n",
       "      <td>0.222210</td>\n",
       "      <td>0.397322</td>\n",
       "      <td>16.576652</td>\n",
       "      <td>12.0</td>\n",
       "      <td>16.0</td>\n",
       "      <td>13.0</td>\n",
       "      <td>0.041282</td>\n",
       "      <td>81.277756</td>\n",
       "      <td>0.875000</td>\n",
       "      <td>0.023061</td>\n",
       "    </tr>\n",
       "    <tr>\n",
       "      <th>4</th>\n",
       "      <td>0.001243</td>\n",
       "      <td>14979.867844</td>\n",
       "      <td>1838.155763</td>\n",
       "      <td>-0.233723</td>\n",
       "      <td>0.545559</td>\n",
       "      <td>11.832243</td>\n",
       "      <td>16.0</td>\n",
       "      <td>16.0</td>\n",
       "      <td>13.0</td>\n",
       "      <td>0.979636</td>\n",
       "      <td>90.623889</td>\n",
       "      <td>0.294118</td>\n",
       "      <td>0.222784</td>\n",
       "    </tr>\n",
       "    <tr>\n",
       "      <th>...</th>\n",
       "      <td>...</td>\n",
       "      <td>...</td>\n",
       "      <td>...</td>\n",
       "      <td>...</td>\n",
       "      <td>...</td>\n",
       "      <td>...</td>\n",
       "      <td>...</td>\n",
       "      <td>...</td>\n",
       "      <td>...</td>\n",
       "      <td>...</td>\n",
       "      <td>...</td>\n",
       "      <td>...</td>\n",
       "      <td>...</td>\n",
       "    </tr>\n",
       "    <tr>\n",
       "      <th>13336408</th>\n",
       "      <td>0.002613</td>\n",
       "      <td>28988.905556</td>\n",
       "      <td>2680.561232</td>\n",
       "      <td>-0.204343</td>\n",
       "      <td>0.545559</td>\n",
       "      <td>24.473264</td>\n",
       "      <td>5.0</td>\n",
       "      <td>13.0</td>\n",
       "      <td>11.0</td>\n",
       "      <td>0.000000</td>\n",
       "      <td>56.708233</td>\n",
       "      <td>0.000000</td>\n",
       "      <td>0.149460</td>\n",
       "    </tr>\n",
       "    <tr>\n",
       "      <th>13336409</th>\n",
       "      <td>0.000112</td>\n",
       "      <td>13010.699980</td>\n",
       "      <td>1695.794619</td>\n",
       "      <td>0.567237</td>\n",
       "      <td>0.342283</td>\n",
       "      <td>41.072783</td>\n",
       "      <td>110.0</td>\n",
       "      <td>58.0</td>\n",
       "      <td>23.0</td>\n",
       "      <td>0.002037</td>\n",
       "      <td>302.582772</td>\n",
       "      <td>0.555556</td>\n",
       "      <td>0.134817</td>\n",
       "    </tr>\n",
       "    <tr>\n",
       "      <th>13336410</th>\n",
       "      <td>0.010503</td>\n",
       "      <td>15232.377792</td>\n",
       "      <td>579.684909</td>\n",
       "      <td>0.317987</td>\n",
       "      <td>0.545559</td>\n",
       "      <td>45.828011</td>\n",
       "      <td>13.0</td>\n",
       "      <td>19.0</td>\n",
       "      <td>17.0</td>\n",
       "      <td>0.274274</td>\n",
       "      <td>108.338541</td>\n",
       "      <td>0.125000</td>\n",
       "      <td>0.090354</td>\n",
       "    </tr>\n",
       "    <tr>\n",
       "      <th>13336411</th>\n",
       "      <td>0.004765</td>\n",
       "      <td>19444.610677</td>\n",
       "      <td>205.607328</td>\n",
       "      <td>0.341417</td>\n",
       "      <td>0.545559</td>\n",
       "      <td>42.645669</td>\n",
       "      <td>13.0</td>\n",
       "      <td>12.0</td>\n",
       "      <td>8.0</td>\n",
       "      <td>0.000000</td>\n",
       "      <td>107.530913</td>\n",
       "      <td>0.000000</td>\n",
       "      <td>0.128185</td>\n",
       "    </tr>\n",
       "    <tr>\n",
       "      <th>13336412</th>\n",
       "      <td>0.000137</td>\n",
       "      <td>17787.128303</td>\n",
       "      <td>269.859016</td>\n",
       "      <td>-0.265230</td>\n",
       "      <td>0.342283</td>\n",
       "      <td>39.358966</td>\n",
       "      <td>14.0</td>\n",
       "      <td>18.0</td>\n",
       "      <td>16.0</td>\n",
       "      <td>0.113527</td>\n",
       "      <td>88.610707</td>\n",
       "      <td>0.227273</td>\n",
       "      <td>0.045948</td>\n",
       "    </tr>\n",
       "  </tbody>\n",
       "</table>\n",
       "<p>13336413 rows × 13 columns</p>\n",
       "</div>"
      ],
      "text/plain": [
       "          SplineMPECramerRaoParams.variance_theta  \\\n",
       "0                                        0.000138   \n",
       "1                                        0.003101   \n",
       "2                                        0.000325   \n",
       "3                                        0.000066   \n",
       "4                                        0.001243   \n",
       "...                                           ...   \n",
       "13336408                                 0.002613   \n",
       "13336409                                 0.000112   \n",
       "13336410                                 0.010503   \n",
       "13336411                                 0.004765   \n",
       "13336412                                 0.000137   \n",
       "\n",
       "          SplineMPETruncatedEnergy_SPICEMie_DOMS_Neutrino.energy  \\\n",
       "0                                              20601.845970        \n",
       "1                                               9461.487291        \n",
       "2                                              43222.679757        \n",
       "3                                               9929.465219        \n",
       "4                                              14979.867844        \n",
       "...                                                     ...        \n",
       "13336408                                       28988.905556        \n",
       "13336409                                       13010.699980        \n",
       "13336410                                       15232.377792        \n",
       "13336411                                       19444.610677        \n",
       "13336412                                       17787.128303        \n",
       "\n",
       "          MCPrimary.energy  \\\n",
       "0              3086.645078   \n",
       "1               193.041166   \n",
       "2               862.503704   \n",
       "3               288.757353   \n",
       "4              1838.155763   \n",
       "...                    ...   \n",
       "13336408       2680.561232   \n",
       "13336409       1695.794619   \n",
       "13336410        579.684909   \n",
       "13336411        205.607328   \n",
       "13336412        269.859016   \n",
       "\n",
       "          SplineMPEDirectHitsICC.dir_track_hit_distribution_smoothness  \\\n",
       "0                                                 -0.147665              \n",
       "1                                                  0.344174              \n",
       "2                                                  0.281681              \n",
       "3                                                  0.222210              \n",
       "4                                                 -0.233723              \n",
       "...                                                     ...              \n",
       "13336408                                          -0.204343              \n",
       "13336409                                           0.567237              \n",
       "13336410                                           0.317987              \n",
       "13336411                                           0.341417              \n",
       "13336412                                          -0.265230              \n",
       "\n",
       "          SplineMPETruncatedEnergy_SPICEMie_BINS_MuEres.value  \\\n",
       "0                                                  0.397322     \n",
       "1                                                  0.545559     \n",
       "2                                                  0.463602     \n",
       "3                                                  0.397322     \n",
       "4                                                  0.545559     \n",
       "...                                                     ...     \n",
       "13336408                                           0.545559     \n",
       "13336409                                           0.342283     \n",
       "13336410                                           0.545559     \n",
       "13336411                                           0.545559     \n",
       "13336412                                           0.342283     \n",
       "\n",
       "          SplineMPECharacteristicsIC.avg_dom_dist_q_tot_dom  \\\n",
       "0                                                 41.003142   \n",
       "1                                                 50.324590   \n",
       "2                                                 39.265226   \n",
       "3                                                 16.576652   \n",
       "4                                                 11.832243   \n",
       "...                                                     ...   \n",
       "13336408                                          24.473264   \n",
       "13336409                                          41.072783   \n",
       "13336410                                          45.828011   \n",
       "13336411                                          42.645669   \n",
       "13336412                                          39.358966   \n",
       "\n",
       "          LineFitGeoSplit1Params.n_hits  SplineMPEDirectHitsICB.n_late_doms  \\\n",
       "0                                  19.0                                34.0   \n",
       "1                                  39.0                                13.0   \n",
       "2                                  21.0                                20.0   \n",
       "3                                  12.0                                16.0   \n",
       "4                                  16.0                                16.0   \n",
       "...                                 ...                                 ...   \n",
       "13336408                            5.0                                13.0   \n",
       "13336409                          110.0                                58.0   \n",
       "13336410                           13.0                                19.0   \n",
       "13336411                           13.0                                12.0   \n",
       "13336412                           14.0                                18.0   \n",
       "\n",
       "          SplineMPEDirectHitsICE.n_dir_doms  Borderness.Q_ratio_in_border  \\\n",
       "0                                      20.0                      0.101743   \n",
       "1                                      11.0                      0.011322   \n",
       "2                                      17.0                      0.618235   \n",
       "3                                      13.0                      0.041282   \n",
       "4                                      13.0                      0.979636   \n",
       "...                                     ...                           ...   \n",
       "13336408                               11.0                      0.000000   \n",
       "13336409                               23.0                      0.002037   \n",
       "13336410                               17.0                      0.274274   \n",
       "13336411                                8.0                      0.000000   \n",
       "13336412                               16.0                      0.113527   \n",
       "\n",
       "          SPEFit2GeoSplit1BayesianFitParams.logl  Dustyness.n_doms_in_dust  \\\n",
       "0                                     158.569898                  0.175000   \n",
       "1                                     272.450606                  0.057143   \n",
       "2                                      73.385557                  0.217391   \n",
       "3                                      81.277756                  0.875000   \n",
       "4                                      90.623889                  0.294118   \n",
       "...                                          ...                       ...   \n",
       "13336408                               56.708233                  0.000000   \n",
       "13336409                              302.582772                  0.555556   \n",
       "13336410                              108.338541                  0.125000   \n",
       "13336411                              107.530913                  0.000000   \n",
       "13336412                               88.610707                  0.227273   \n",
       "\n",
       "          VariousVariables.Cone_Angle  \n",
       "0                            0.022686  \n",
       "1                            0.097690  \n",
       "2                            0.049914  \n",
       "3                            0.023061  \n",
       "4                            0.222784  \n",
       "...                               ...  \n",
       "13336408                     0.149460  \n",
       "13336409                     0.134817  \n",
       "13336410                     0.090354  \n",
       "13336411                     0.128185  \n",
       "13336412                     0.045948  \n",
       "\n",
       "[13336413 rows x 13 columns]"
      ]
     },
     "execution_count": 6,
     "metadata": {},
     "output_type": "execute_result"
    }
   ],
   "source": [
    "# read in data\n",
    "file_path = '/net/big-tank/POOL/users/lkardum/new_mc_binning.csv'\n",
    "df_raw = pd.read_csv(file_path, skipinitialspace=True, usecols=fields)\n",
    "\n",
    "df_raw"
   ]
  },
  {
   "cell_type": "code",
   "execution_count": 7,
   "metadata": {},
   "outputs": [],
   "source": [
    "# drop critical rows\n",
    "df = df_raw.drop([ 1007671,  1426233,  2304853,  2715790,  3674355,  3741687, 4178063,  4969266,  5038333,  5334552,  5589516,  5863719,\n",
    " 5978972,  7006367,  7281704,  7509650,  8380383,  8758113,9043798, 10280382, 11179530, 11184928, 11332586, 11797767,12253944], axis = 0)\n",
    "\n",
    "# substitute NaNs with extreme Value\n",
    "df.fillna(value =-100000, inplace = True)"
   ]
  },
  {
   "cell_type": "markdown",
   "metadata": {},
   "source": [
    "# Discretize the target Neutrino Energy"
   ]
  },
  {
   "cell_type": "code",
   "execution_count": 8,
   "metadata": {},
   "outputs": [
    {
     "data": {
      "text/plain": [
       "count    1.333639e+07\n",
       "mean     6.298949e+03\n",
       "std      2.457562e+05\n",
       "min      1.000001e+02\n",
       "25%      2.706783e+02\n",
       "50%      5.471676e+02\n",
       "75%      1.416143e+03\n",
       "max      9.970067e+07\n",
       "Name: MCPrimary.energy, dtype: float64"
      ]
     },
     "execution_count": 8,
     "metadata": {},
     "output_type": "execute_result"
    }
   ],
   "source": [
    "# discretize\n",
    "df['MCPrimary.energy'].describe()"
   ]
  },
  {
   "cell_type": "code",
   "execution_count": 9,
   "metadata": {},
   "outputs": [],
   "source": [
    "# Variables: Label\n",
    "# drop out all events with Energies outside the range\n",
    "lower_limit = 100\n",
    "upper_limit = 10**5\n",
    "\n",
    "# Variables: NN\n",
    "num_bins = 10 # number of bins (energy classes), output_shape"
   ]
  },
  {
   "cell_type": "code",
   "execution_count": 10,
   "metadata": {},
   "outputs": [
    {
     "data": {
      "text/html": [
       "<div>\n",
       "<style scoped>\n",
       "    .dataframe tbody tr th:only-of-type {\n",
       "        vertical-align: middle;\n",
       "    }\n",
       "\n",
       "    .dataframe tbody tr th {\n",
       "        vertical-align: top;\n",
       "    }\n",
       "\n",
       "    .dataframe thead th {\n",
       "        text-align: right;\n",
       "    }\n",
       "</style>\n",
       "<table border=\"1\" class=\"dataframe\">\n",
       "  <thead>\n",
       "    <tr style=\"text-align: right;\">\n",
       "      <th></th>\n",
       "      <th>SplineMPECramerRaoParams.variance_theta</th>\n",
       "      <th>SplineMPETruncatedEnergy_SPICEMie_DOMS_Neutrino.energy</th>\n",
       "      <th>MCPrimary.energy</th>\n",
       "      <th>SplineMPEDirectHitsICC.dir_track_hit_distribution_smoothness</th>\n",
       "      <th>SplineMPETruncatedEnergy_SPICEMie_BINS_MuEres.value</th>\n",
       "      <th>SplineMPECharacteristicsIC.avg_dom_dist_q_tot_dom</th>\n",
       "      <th>LineFitGeoSplit1Params.n_hits</th>\n",
       "      <th>SplineMPEDirectHitsICB.n_late_doms</th>\n",
       "      <th>SplineMPEDirectHitsICE.n_dir_doms</th>\n",
       "      <th>Borderness.Q_ratio_in_border</th>\n",
       "      <th>SPEFit2GeoSplit1BayesianFitParams.logl</th>\n",
       "      <th>Dustyness.n_doms_in_dust</th>\n",
       "      <th>VariousVariables.Cone_Angle</th>\n",
       "    </tr>\n",
       "  </thead>\n",
       "  <tbody>\n",
       "    <tr>\n",
       "      <th>0</th>\n",
       "      <td>0.000138</td>\n",
       "      <td>20601.845970</td>\n",
       "      <td>3086.645078</td>\n",
       "      <td>-0.147665</td>\n",
       "      <td>0.397322</td>\n",
       "      <td>41.003142</td>\n",
       "      <td>19.0</td>\n",
       "      <td>34.0</td>\n",
       "      <td>20.0</td>\n",
       "      <td>0.101743</td>\n",
       "      <td>158.569898</td>\n",
       "      <td>0.175000</td>\n",
       "      <td>0.022686</td>\n",
       "    </tr>\n",
       "    <tr>\n",
       "      <th>1</th>\n",
       "      <td>0.003101</td>\n",
       "      <td>9461.487291</td>\n",
       "      <td>193.041166</td>\n",
       "      <td>0.344174</td>\n",
       "      <td>0.545559</td>\n",
       "      <td>50.324590</td>\n",
       "      <td>39.0</td>\n",
       "      <td>13.0</td>\n",
       "      <td>11.0</td>\n",
       "      <td>0.011322</td>\n",
       "      <td>272.450606</td>\n",
       "      <td>0.057143</td>\n",
       "      <td>0.097690</td>\n",
       "    </tr>\n",
       "    <tr>\n",
       "      <th>2</th>\n",
       "      <td>0.000325</td>\n",
       "      <td>43222.679757</td>\n",
       "      <td>862.503704</td>\n",
       "      <td>0.281681</td>\n",
       "      <td>0.463602</td>\n",
       "      <td>39.265226</td>\n",
       "      <td>21.0</td>\n",
       "      <td>20.0</td>\n",
       "      <td>17.0</td>\n",
       "      <td>0.618235</td>\n",
       "      <td>73.385557</td>\n",
       "      <td>0.217391</td>\n",
       "      <td>0.049914</td>\n",
       "    </tr>\n",
       "    <tr>\n",
       "      <th>3</th>\n",
       "      <td>0.000066</td>\n",
       "      <td>9929.465219</td>\n",
       "      <td>288.757353</td>\n",
       "      <td>0.222210</td>\n",
       "      <td>0.397322</td>\n",
       "      <td>16.576652</td>\n",
       "      <td>12.0</td>\n",
       "      <td>16.0</td>\n",
       "      <td>13.0</td>\n",
       "      <td>0.041282</td>\n",
       "      <td>81.277756</td>\n",
       "      <td>0.875000</td>\n",
       "      <td>0.023061</td>\n",
       "    </tr>\n",
       "    <tr>\n",
       "      <th>4</th>\n",
       "      <td>0.001243</td>\n",
       "      <td>14979.867844</td>\n",
       "      <td>1838.155763</td>\n",
       "      <td>-0.233723</td>\n",
       "      <td>0.545559</td>\n",
       "      <td>11.832243</td>\n",
       "      <td>16.0</td>\n",
       "      <td>16.0</td>\n",
       "      <td>13.0</td>\n",
       "      <td>0.979636</td>\n",
       "      <td>90.623889</td>\n",
       "      <td>0.294118</td>\n",
       "      <td>0.222784</td>\n",
       "    </tr>\n",
       "    <tr>\n",
       "      <th>...</th>\n",
       "      <td>...</td>\n",
       "      <td>...</td>\n",
       "      <td>...</td>\n",
       "      <td>...</td>\n",
       "      <td>...</td>\n",
       "      <td>...</td>\n",
       "      <td>...</td>\n",
       "      <td>...</td>\n",
       "      <td>...</td>\n",
       "      <td>...</td>\n",
       "      <td>...</td>\n",
       "      <td>...</td>\n",
       "      <td>...</td>\n",
       "    </tr>\n",
       "    <tr>\n",
       "      <th>13336408</th>\n",
       "      <td>0.002613</td>\n",
       "      <td>28988.905556</td>\n",
       "      <td>2680.561232</td>\n",
       "      <td>-0.204343</td>\n",
       "      <td>0.545559</td>\n",
       "      <td>24.473264</td>\n",
       "      <td>5.0</td>\n",
       "      <td>13.0</td>\n",
       "      <td>11.0</td>\n",
       "      <td>0.000000</td>\n",
       "      <td>56.708233</td>\n",
       "      <td>0.000000</td>\n",
       "      <td>0.149460</td>\n",
       "    </tr>\n",
       "    <tr>\n",
       "      <th>13336409</th>\n",
       "      <td>0.000112</td>\n",
       "      <td>13010.699980</td>\n",
       "      <td>1695.794619</td>\n",
       "      <td>0.567237</td>\n",
       "      <td>0.342283</td>\n",
       "      <td>41.072783</td>\n",
       "      <td>110.0</td>\n",
       "      <td>58.0</td>\n",
       "      <td>23.0</td>\n",
       "      <td>0.002037</td>\n",
       "      <td>302.582772</td>\n",
       "      <td>0.555556</td>\n",
       "      <td>0.134817</td>\n",
       "    </tr>\n",
       "    <tr>\n",
       "      <th>13336410</th>\n",
       "      <td>0.010503</td>\n",
       "      <td>15232.377792</td>\n",
       "      <td>579.684909</td>\n",
       "      <td>0.317987</td>\n",
       "      <td>0.545559</td>\n",
       "      <td>45.828011</td>\n",
       "      <td>13.0</td>\n",
       "      <td>19.0</td>\n",
       "      <td>17.0</td>\n",
       "      <td>0.274274</td>\n",
       "      <td>108.338541</td>\n",
       "      <td>0.125000</td>\n",
       "      <td>0.090354</td>\n",
       "    </tr>\n",
       "    <tr>\n",
       "      <th>13336411</th>\n",
       "      <td>0.004765</td>\n",
       "      <td>19444.610677</td>\n",
       "      <td>205.607328</td>\n",
       "      <td>0.341417</td>\n",
       "      <td>0.545559</td>\n",
       "      <td>42.645669</td>\n",
       "      <td>13.0</td>\n",
       "      <td>12.0</td>\n",
       "      <td>8.0</td>\n",
       "      <td>0.000000</td>\n",
       "      <td>107.530913</td>\n",
       "      <td>0.000000</td>\n",
       "      <td>0.128185</td>\n",
       "    </tr>\n",
       "    <tr>\n",
       "      <th>13336412</th>\n",
       "      <td>0.000137</td>\n",
       "      <td>17787.128303</td>\n",
       "      <td>269.859016</td>\n",
       "      <td>-0.265230</td>\n",
       "      <td>0.342283</td>\n",
       "      <td>39.358966</td>\n",
       "      <td>14.0</td>\n",
       "      <td>18.0</td>\n",
       "      <td>16.0</td>\n",
       "      <td>0.113527</td>\n",
       "      <td>88.610707</td>\n",
       "      <td>0.227273</td>\n",
       "      <td>0.045948</td>\n",
       "    </tr>\n",
       "  </tbody>\n",
       "</table>\n",
       "<p>13262094 rows × 13 columns</p>\n",
       "</div>"
      ],
      "text/plain": [
       "          SplineMPECramerRaoParams.variance_theta  \\\n",
       "0                                        0.000138   \n",
       "1                                        0.003101   \n",
       "2                                        0.000325   \n",
       "3                                        0.000066   \n",
       "4                                        0.001243   \n",
       "...                                           ...   \n",
       "13336408                                 0.002613   \n",
       "13336409                                 0.000112   \n",
       "13336410                                 0.010503   \n",
       "13336411                                 0.004765   \n",
       "13336412                                 0.000137   \n",
       "\n",
       "          SplineMPETruncatedEnergy_SPICEMie_DOMS_Neutrino.energy  \\\n",
       "0                                              20601.845970        \n",
       "1                                               9461.487291        \n",
       "2                                              43222.679757        \n",
       "3                                               9929.465219        \n",
       "4                                              14979.867844        \n",
       "...                                                     ...        \n",
       "13336408                                       28988.905556        \n",
       "13336409                                       13010.699980        \n",
       "13336410                                       15232.377792        \n",
       "13336411                                       19444.610677        \n",
       "13336412                                       17787.128303        \n",
       "\n",
       "          MCPrimary.energy  \\\n",
       "0              3086.645078   \n",
       "1               193.041166   \n",
       "2               862.503704   \n",
       "3               288.757353   \n",
       "4              1838.155763   \n",
       "...                    ...   \n",
       "13336408       2680.561232   \n",
       "13336409       1695.794619   \n",
       "13336410        579.684909   \n",
       "13336411        205.607328   \n",
       "13336412        269.859016   \n",
       "\n",
       "          SplineMPEDirectHitsICC.dir_track_hit_distribution_smoothness  \\\n",
       "0                                                 -0.147665              \n",
       "1                                                  0.344174              \n",
       "2                                                  0.281681              \n",
       "3                                                  0.222210              \n",
       "4                                                 -0.233723              \n",
       "...                                                     ...              \n",
       "13336408                                          -0.204343              \n",
       "13336409                                           0.567237              \n",
       "13336410                                           0.317987              \n",
       "13336411                                           0.341417              \n",
       "13336412                                          -0.265230              \n",
       "\n",
       "          SplineMPETruncatedEnergy_SPICEMie_BINS_MuEres.value  \\\n",
       "0                                                  0.397322     \n",
       "1                                                  0.545559     \n",
       "2                                                  0.463602     \n",
       "3                                                  0.397322     \n",
       "4                                                  0.545559     \n",
       "...                                                     ...     \n",
       "13336408                                           0.545559     \n",
       "13336409                                           0.342283     \n",
       "13336410                                           0.545559     \n",
       "13336411                                           0.545559     \n",
       "13336412                                           0.342283     \n",
       "\n",
       "          SplineMPECharacteristicsIC.avg_dom_dist_q_tot_dom  \\\n",
       "0                                                 41.003142   \n",
       "1                                                 50.324590   \n",
       "2                                                 39.265226   \n",
       "3                                                 16.576652   \n",
       "4                                                 11.832243   \n",
       "...                                                     ...   \n",
       "13336408                                          24.473264   \n",
       "13336409                                          41.072783   \n",
       "13336410                                          45.828011   \n",
       "13336411                                          42.645669   \n",
       "13336412                                          39.358966   \n",
       "\n",
       "          LineFitGeoSplit1Params.n_hits  SplineMPEDirectHitsICB.n_late_doms  \\\n",
       "0                                  19.0                                34.0   \n",
       "1                                  39.0                                13.0   \n",
       "2                                  21.0                                20.0   \n",
       "3                                  12.0                                16.0   \n",
       "4                                  16.0                                16.0   \n",
       "...                                 ...                                 ...   \n",
       "13336408                            5.0                                13.0   \n",
       "13336409                          110.0                                58.0   \n",
       "13336410                           13.0                                19.0   \n",
       "13336411                           13.0                                12.0   \n",
       "13336412                           14.0                                18.0   \n",
       "\n",
       "          SplineMPEDirectHitsICE.n_dir_doms  Borderness.Q_ratio_in_border  \\\n",
       "0                                      20.0                      0.101743   \n",
       "1                                      11.0                      0.011322   \n",
       "2                                      17.0                      0.618235   \n",
       "3                                      13.0                      0.041282   \n",
       "4                                      13.0                      0.979636   \n",
       "...                                     ...                           ...   \n",
       "13336408                               11.0                      0.000000   \n",
       "13336409                               23.0                      0.002037   \n",
       "13336410                               17.0                      0.274274   \n",
       "13336411                                8.0                      0.000000   \n",
       "13336412                               16.0                      0.113527   \n",
       "\n",
       "          SPEFit2GeoSplit1BayesianFitParams.logl  Dustyness.n_doms_in_dust  \\\n",
       "0                                     158.569898                  0.175000   \n",
       "1                                     272.450606                  0.057143   \n",
       "2                                      73.385557                  0.217391   \n",
       "3                                      81.277756                  0.875000   \n",
       "4                                      90.623889                  0.294118   \n",
       "...                                          ...                       ...   \n",
       "13336408                               56.708233                  0.000000   \n",
       "13336409                              302.582772                  0.555556   \n",
       "13336410                              108.338541                  0.125000   \n",
       "13336411                              107.530913                  0.000000   \n",
       "13336412                               88.610707                  0.227273   \n",
       "\n",
       "          VariousVariables.Cone_Angle  \n",
       "0                            0.022686  \n",
       "1                            0.097690  \n",
       "2                            0.049914  \n",
       "3                            0.023061  \n",
       "4                            0.222784  \n",
       "...                               ...  \n",
       "13336408                     0.149460  \n",
       "13336409                     0.134817  \n",
       "13336410                     0.090354  \n",
       "13336411                     0.128185  \n",
       "13336412                     0.045948  \n",
       "\n",
       "[13262094 rows x 13 columns]"
      ]
     },
     "execution_count": 10,
     "metadata": {},
     "output_type": "execute_result"
    }
   ],
   "source": [
    "# throw out extreme high and low energy neutrinos\n",
    "df = df[(df['MCPrimary.energy']<upper_limit) & (df['MCPrimary.energy']>lower_limit)]\n",
    "df"
   ]
  },
  {
   "cell_type": "code",
   "execution_count": 11,
   "metadata": {},
   "outputs": [
    {
     "data": {
      "text/plain": [
       "array([   100.        ,    199.5262315 ,    398.10717055,    794.32823472,\n",
       "         1584.89319246,   3162.27766017,   6309.5734448 ,  12589.25411794,\n",
       "        25118.8643151 ,  50118.72336273, 100000.        ])"
      ]
     },
     "execution_count": 11,
     "metadata": {},
     "output_type": "execute_result"
    }
   ],
   "source": [
    "## log-scaled Binning\n",
    "bins = np.logspace(np.log10(lower_limit), np.log10(upper_limit), num_bins+1)\n",
    "bins"
   ]
  },
  {
   "cell_type": "code",
   "execution_count": 12,
   "metadata": {},
   "outputs": [],
   "source": [
    "# # Equal-frequency Binning\n",
    "\n",
    "# #define function to calculate equal-frequency bins \n",
    "# def equalObs(x, nbin):\n",
    "#     nlen = len(x)\n",
    "#     return np.interp(np.linspace(0, nlen, nbin + 1),\n",
    "#                      np.arange(nlen),\n",
    "#                      np.sort(x))\n",
    "\n",
    "# #create histogram with equal-frequency bins \n",
    "# n, bins, patches = plt.hist(df['MCPrimary.energy'].to_numpy(), equalObs(df['MCPrimary.energy'].to_numpy(), num_bins), edgecolor='black')\n",
    "# plt.show()\n",
    "\n",
    "# #display bin boundaries and frequency per bin \n",
    "# bins, n"
   ]
  },
  {
   "cell_type": "code",
   "execution_count": 13,
   "metadata": {},
   "outputs": [
    {
     "data": {
      "text/plain": [
       "1    3265825\n",
       "2    2971469\n",
       "3    2110752\n",
       "0    1939697\n",
       "4    1327291\n",
       "5     776316\n",
       "6     435447\n",
       "7     239490\n",
       "8     128030\n",
       "9      67777\n",
       "Name: E_discr, dtype: int64"
      ]
     },
     "execution_count": 13,
     "metadata": {},
     "output_type": "execute_result"
    }
   ],
   "source": [
    "# new column with discretized energies\n",
    "\n",
    "df['E_discr'] = pd.cut(df['MCPrimary.energy'], bins=bins, labels=range(len(bins)-1))\n",
    "df['E_discr'].value_counts()"
   ]
  },
  {
   "cell_type": "markdown",
   "metadata": {},
   "source": [
    "# Create target dataset"
   ]
  },
  {
   "cell_type": "code",
   "execution_count": 14,
   "metadata": {},
   "outputs": [
    {
     "data": {
      "text/html": [
       "<div>\n",
       "<style scoped>\n",
       "    .dataframe tbody tr th:only-of-type {\n",
       "        vertical-align: middle;\n",
       "    }\n",
       "\n",
       "    .dataframe tbody tr th {\n",
       "        vertical-align: top;\n",
       "    }\n",
       "\n",
       "    .dataframe thead th {\n",
       "        text-align: right;\n",
       "    }\n",
       "</style>\n",
       "<table border=\"1\" class=\"dataframe\">\n",
       "  <thead>\n",
       "    <tr style=\"text-align: right;\">\n",
       "      <th>E_discr</th>\n",
       "      <th>0</th>\n",
       "      <th>1</th>\n",
       "      <th>2</th>\n",
       "      <th>3</th>\n",
       "      <th>4</th>\n",
       "      <th>5</th>\n",
       "      <th>6</th>\n",
       "      <th>7</th>\n",
       "      <th>8</th>\n",
       "      <th>9</th>\n",
       "    </tr>\n",
       "  </thead>\n",
       "  <tbody>\n",
       "    <tr>\n",
       "      <th>0</th>\n",
       "      <td>0</td>\n",
       "      <td>0</td>\n",
       "      <td>0</td>\n",
       "      <td>0</td>\n",
       "      <td>1</td>\n",
       "      <td>0</td>\n",
       "      <td>0</td>\n",
       "      <td>0</td>\n",
       "      <td>0</td>\n",
       "      <td>0</td>\n",
       "    </tr>\n",
       "    <tr>\n",
       "      <th>1</th>\n",
       "      <td>1</td>\n",
       "      <td>0</td>\n",
       "      <td>0</td>\n",
       "      <td>0</td>\n",
       "      <td>0</td>\n",
       "      <td>0</td>\n",
       "      <td>0</td>\n",
       "      <td>0</td>\n",
       "      <td>0</td>\n",
       "      <td>0</td>\n",
       "    </tr>\n",
       "    <tr>\n",
       "      <th>2</th>\n",
       "      <td>0</td>\n",
       "      <td>0</td>\n",
       "      <td>0</td>\n",
       "      <td>1</td>\n",
       "      <td>0</td>\n",
       "      <td>0</td>\n",
       "      <td>0</td>\n",
       "      <td>0</td>\n",
       "      <td>0</td>\n",
       "      <td>0</td>\n",
       "    </tr>\n",
       "    <tr>\n",
       "      <th>3</th>\n",
       "      <td>0</td>\n",
       "      <td>1</td>\n",
       "      <td>0</td>\n",
       "      <td>0</td>\n",
       "      <td>0</td>\n",
       "      <td>0</td>\n",
       "      <td>0</td>\n",
       "      <td>0</td>\n",
       "      <td>0</td>\n",
       "      <td>0</td>\n",
       "    </tr>\n",
       "    <tr>\n",
       "      <th>4</th>\n",
       "      <td>0</td>\n",
       "      <td>0</td>\n",
       "      <td>0</td>\n",
       "      <td>0</td>\n",
       "      <td>1</td>\n",
       "      <td>0</td>\n",
       "      <td>0</td>\n",
       "      <td>0</td>\n",
       "      <td>0</td>\n",
       "      <td>0</td>\n",
       "    </tr>\n",
       "    <tr>\n",
       "      <th>...</th>\n",
       "      <td>...</td>\n",
       "      <td>...</td>\n",
       "      <td>...</td>\n",
       "      <td>...</td>\n",
       "      <td>...</td>\n",
       "      <td>...</td>\n",
       "      <td>...</td>\n",
       "      <td>...</td>\n",
       "      <td>...</td>\n",
       "      <td>...</td>\n",
       "    </tr>\n",
       "    <tr>\n",
       "      <th>13336408</th>\n",
       "      <td>0</td>\n",
       "      <td>0</td>\n",
       "      <td>0</td>\n",
       "      <td>0</td>\n",
       "      <td>1</td>\n",
       "      <td>0</td>\n",
       "      <td>0</td>\n",
       "      <td>0</td>\n",
       "      <td>0</td>\n",
       "      <td>0</td>\n",
       "    </tr>\n",
       "    <tr>\n",
       "      <th>13336409</th>\n",
       "      <td>0</td>\n",
       "      <td>0</td>\n",
       "      <td>0</td>\n",
       "      <td>0</td>\n",
       "      <td>1</td>\n",
       "      <td>0</td>\n",
       "      <td>0</td>\n",
       "      <td>0</td>\n",
       "      <td>0</td>\n",
       "      <td>0</td>\n",
       "    </tr>\n",
       "    <tr>\n",
       "      <th>13336410</th>\n",
       "      <td>0</td>\n",
       "      <td>0</td>\n",
       "      <td>1</td>\n",
       "      <td>0</td>\n",
       "      <td>0</td>\n",
       "      <td>0</td>\n",
       "      <td>0</td>\n",
       "      <td>0</td>\n",
       "      <td>0</td>\n",
       "      <td>0</td>\n",
       "    </tr>\n",
       "    <tr>\n",
       "      <th>13336411</th>\n",
       "      <td>0</td>\n",
       "      <td>1</td>\n",
       "      <td>0</td>\n",
       "      <td>0</td>\n",
       "      <td>0</td>\n",
       "      <td>0</td>\n",
       "      <td>0</td>\n",
       "      <td>0</td>\n",
       "      <td>0</td>\n",
       "      <td>0</td>\n",
       "    </tr>\n",
       "    <tr>\n",
       "      <th>13336412</th>\n",
       "      <td>0</td>\n",
       "      <td>1</td>\n",
       "      <td>0</td>\n",
       "      <td>0</td>\n",
       "      <td>0</td>\n",
       "      <td>0</td>\n",
       "      <td>0</td>\n",
       "      <td>0</td>\n",
       "      <td>0</td>\n",
       "      <td>0</td>\n",
       "    </tr>\n",
       "  </tbody>\n",
       "</table>\n",
       "<p>13262094 rows × 10 columns</p>\n",
       "</div>"
      ],
      "text/plain": [
       "E_discr   0  1  2  3  4  5  6  7  8  9\n",
       "0         0  0  0  0  1  0  0  0  0  0\n",
       "1         1  0  0  0  0  0  0  0  0  0\n",
       "2         0  0  0  1  0  0  0  0  0  0\n",
       "3         0  1  0  0  0  0  0  0  0  0\n",
       "4         0  0  0  0  1  0  0  0  0  0\n",
       "...      .. .. .. .. .. .. .. .. .. ..\n",
       "13336408  0  0  0  0  1  0  0  0  0  0\n",
       "13336409  0  0  0  0  1  0  0  0  0  0\n",
       "13336410  0  0  1  0  0  0  0  0  0  0\n",
       "13336411  0  1  0  0  0  0  0  0  0  0\n",
       "13336412  0  1  0  0  0  0  0  0  0  0\n",
       "\n",
       "[13262094 rows x 10 columns]"
      ]
     },
     "execution_count": 14,
     "metadata": {},
     "output_type": "execute_result"
    }
   ],
   "source": [
    "# one hot encoded vector (necessary for cce)\n",
    "df_E_dummie = pd.get_dummies(df['E_discr'])\n",
    "df_E_dummie"
   ]
  },
  {
   "cell_type": "code",
   "execution_count": 15,
   "metadata": {},
   "outputs": [
    {
     "data": {
      "text/plain": [
       "(13262094, 10)"
      ]
     },
     "execution_count": 15,
     "metadata": {},
     "output_type": "execute_result"
    }
   ],
   "source": [
    "# target\n",
    "y = df_E_dummie.to_numpy()\n",
    "y.shape"
   ]
  },
  {
   "cell_type": "code",
   "execution_count": 16,
   "metadata": {},
   "outputs": [
    {
     "data": {
      "text/plain": [
       "(13262094, 12)"
      ]
     },
     "execution_count": 16,
     "metadata": {},
     "output_type": "execute_result"
    }
   ],
   "source": [
    "X = df[feature_list].to_numpy()\n",
    "X.shape"
   ]
  },
  {
   "cell_type": "code",
   "execution_count": 17,
   "metadata": {},
   "outputs": [],
   "source": [
    "# subsample size\n",
    "\n",
    "def create_dataset(X, y, subset=0, validation_split=0.3):\n",
    "    # X,y: numpy Array\n",
    "    # subset: size of the subset (Int)\n",
    "    # validation_split: (0, 1) \n",
    "    perm = np.random.permutation(len(X))\n",
    "\n",
    "    if subset:\n",
    "        perm = perm[0:subset]\n",
    "\n",
    "    limit = int(len(perm)*(1-validation_split))\n",
    "\n",
    "    X_train = X[perm[:limit]]\n",
    "    X_eval = X[perm[limit:]]\n",
    "    y_train = y[perm[:limit]]\n",
    "    y_eval = y[perm[limit:]]\n",
    "\n",
    "    return X_train, y_train, X_eval, y_eval"
   ]
  },
  {
   "cell_type": "code",
   "execution_count": 18,
   "metadata": {},
   "outputs": [
    {
     "name": "stdout",
     "output_type": "stream",
     "text": [
      "(10609675, 12) (10609675, 10) (2652419, 12) (2652419, 10)\n"
     ]
    }
   ],
   "source": [
    "X_train, y_train, X_eval, y_eval = create_dataset(X, y, validation_split=0.2, subset=0)\n",
    "print(X_train.shape, y_train.shape, X_eval.shape, y_eval.shape)"
   ]
  },
  {
   "cell_type": "code",
   "execution_count": 19,
   "metadata": {},
   "outputs": [],
   "source": [
    "from sklearn.preprocessing import StandardScaler\n",
    "scaler = StandardScaler()\n",
    "scaler.fit(X_train)\n",
    "X_train = scaler.transform(X_train)\n",
    "X_eval = scaler.transform(X_eval)"
   ]
  },
  {
   "cell_type": "markdown",
   "metadata": {},
   "source": [
    "# DSEA: Naive Bayes"
   ]
  },
  {
   "cell_type": "code",
   "execution_count": 19,
   "metadata": {},
   "outputs": [],
   "source": [
    "from sklearn.naive_bayes import GaussianNB"
   ]
  },
  {
   "cell_type": "code",
   "execution_count": 21,
   "metadata": {},
   "outputs": [
    {
     "data": {
      "text/plain": [
       "array([4.62436742e-02, 3.58948126e-04, 1.33643070e-07, 6.95719509e-01,\n",
       "       1.64791926e-01, 3.53775085e-02, 1.70033390e-02, 2.84519761e-03,\n",
       "       2.73014849e-02, 1.03582785e-02])"
      ]
     },
     "execution_count": 21,
     "metadata": {},
     "output_type": "execute_result"
    }
   ],
   "source": [
    "f_est = dsea(X_eval, X_train, y_train_cls, GaussianNB(), K=7)\n",
    "f_est"
   ]
  },
  {
   "cell_type": "code",
   "execution_count": 22,
   "metadata": {},
   "outputs": [
    {
     "data": {
      "image/png": "[encoded data removed]",
      "text/plain": [
       "<Figure size 432x288 with 1 Axes>"
      ]
     },
     "metadata": {
      "needs_background": "light"
     },
     "output_type": "display_data"
    }
   ],
   "source": [
    "plt.bar(np.arange(len(f_est)), f_est)\n",
    "plt.title('predicted pdf')\n",
    "None"
   ]
  },
  {
   "cell_type": "code",
   "execution_count": 23,
   "metadata": {},
   "outputs": [
    {
     "data": {
      "image/png": "[encoded data removed]",
      "text/plain": [
       "<Figure size 432x288 with 1 Axes>"
      ]
     },
     "metadata": {
      "needs_background": "light"
     },
     "output_type": "display_data"
    }
   ],
   "source": [
    "plt.hist(y_eval_cls, histtype='bar', density=True, rwidth=0.8)\n",
    "plt.title('true pdf')\n",
    "None"
   ]
  },
  {
   "cell_type": "markdown",
   "metadata": {},
   "source": [
    "# DSEA: Naive Bayes with stepsize"
   ]
  },
  {
   "cell_type": "code",
   "execution_count": 23,
   "metadata": {},
   "outputs": [],
   "source": [
    "# first of all, we set up an inspection function, which prints the step size of each iteration\n",
    "def inspect_alpha(k, alpha, chi2s, f): # you can define custom inspection methods to investigate DSEA\n",
    "    print(alpha)"
   ]
  },
  {
   "cell_type": "code",
   "execution_count": 24,
   "metadata": {},
   "outputs": [
    {
     "name": "stdout",
     "output_type": "stream",
     "text": [
      "0\n",
      "1\n",
      "2\n"
     ]
    }
   ],
   "source": [
    "# The other one decays exponentially, which is rather fast\n",
    "alpha_exp = stepsize.decay_exp(0.5, 2.0) # start with step size 2\n",
    "f_est_exp = dsea(X_eval, X_train, y_train_cls, GaussianNB(), K = 3, inspect = inspect_alpha,  alpha = alpha_exp)"
   ]
  },
  {
   "cell_type": "code",
   "execution_count": 25,
   "metadata": {},
   "outputs": [
    {
     "data": {
      "text/plain": [
       "<BarContainer object of 10 artists>"
      ]
     },
     "execution_count": 25,
     "metadata": {},
     "output_type": "execute_result"
    },
    {
     "data": {
      "image/png": "[encoded data removed]",
      "text/plain": [
       "<Figure size 432x288 with 1 Axes>"
      ]
     },
     "metadata": {
      "needs_background": "light"
     },
     "output_type": "display_data"
    }
   ],
   "source": [
    "plt.bar(np.arange(len(f_est_exp)), f_est_exp)"
   ]
  },
  {
   "cell_type": "markdown",
   "metadata": {},
   "source": [
    "# DSEA: Naive Bayes with adaptive stepsize"
   ]
  },
  {
   "cell_type": "code",
   "execution_count": 32,
   "metadata": {},
   "outputs": [
    {
     "name": "stdout",
     "output_type": "stream",
     "text": [
      "Iteration 0: alpha = nan\n",
      "Iteration 1: alpha = 3.2832434933237817e-16\n",
      "Iteration 2: alpha = 1.5949088247228786e-209\n",
      "Iteration 3: alpha = 1.5949088247228786e-209\n",
      "Iteration 4: alpha = 1.5949088247228786e-209\n",
      "Iteration 5: alpha = 1.5949088247228786e-209\n",
      "Iteration 6: alpha = 1.5949088247228786e-209\n"
     ]
    },
    {
     "data": {
      "text/plain": [
       "array([0.1, 0.1, 0.1, 0.1, 0.1, 0.1, 0.1, 0.1, 0.1, 0.1])"
      ]
     },
     "execution_count": 32,
     "metadata": {},
     "output_type": "execute_result"
    }
   ],
   "source": [
    "from cherenkovdeconvolution.discretize import TreeDiscretizer\n",
    "discretizer = TreeDiscretizer(X_train, y_train_cls, 4) # interpret the 4 leaves of a decision tree as clusters\n",
    "x_data  = discretizer.discretize(X_eval)\n",
    "x_train = discretizer.discretize(X_train)\n",
    "alpha = stepsize.alpha_adaptive_run(x_data, x_train, y_train_cls, tau = 0, bins_y = [0, 1, 2, 3, 4, 5, 6, 7, 8, 9]) # a function object like above\n",
    "\n",
    "# inspect the chosen alpha values with a callback function\n",
    "def inspect_alpha(f, k, a, chi2s): # this signature is mandatory. Here, f is the latest estimate.\n",
    "    print('Iteration {}: alpha = {}'.format(k, a)) # print iteration number and alpha value\n",
    "\n",
    "# deconvolve\n",
    "f_est = dsea(X_eval, X_train, y_train_cls, GaussianNB(), K = 6, alpha = alpha, inspect = inspect_alpha)\n",
    "#print('Chi square distance between f_est and f_true: {}'.format(util.chi2s(f_est, f_true)))\n",
    "f_est # Chi square distance of single-iteration DSEA was 0.001396749429286623"
   ]
  },
  {
   "cell_type": "code",
   "execution_count": 34,
   "metadata": {},
   "outputs": [
    {
     "data": {
      "text/plain": [
       "<BarContainer object of 10 artists>"
      ]
     },
     "execution_count": 34,
     "metadata": {},
     "output_type": "execute_result"
    },
    {
     "data": {
      "image/png": "[encoded data removed]",
      "text/plain": [
       "<Figure size 432x288 with 1 Axes>"
      ]
     },
     "metadata": {
      "needs_background": "light"
     },
     "output_type": "display_data"
    }
   ],
   "source": [
    "plt.bar(np.arange(len(f_est)), f_est)\n"
   ]
  },
  {
   "cell_type": "markdown",
   "metadata": {},
   "source": [
    "# DSEA: Random Forest"
   ]
  },
  {
   "cell_type": "code",
   "execution_count": 21,
   "metadata": {},
   "outputs": [],
   "source": [
    "from sklearn.ensemble import RandomForestClassifier"
   ]
  },
  {
   "cell_type": "code",
   "execution_count": 22,
   "metadata": {},
   "outputs": [
    {
     "data": {
      "text/plain": [
       "array([0, 1, 2, 3, 4, 5, 6, 7, 8, 9])"
      ]
     },
     "execution_count": 22,
     "metadata": {},
     "output_type": "execute_result"
    }
   ],
   "source": [
    "# from one-hot encoded vector label to integer\n",
    "y_train_cls = np.argmax(y_train, axis=1)\n",
    "y_eval_cls = np.argmax(y_eval, axis=1)\n",
    "np.unique(y_train_cls)"
   ]
  },
  {
   "cell_type": "code",
   "execution_count": 23,
   "metadata": {},
   "outputs": [
    {
     "name": "stderr",
     "output_type": "stream",
     "text": [
      "/opt/anaconda/lib/python3.7/site-packages/sklearn/ensemble/forest.py:245: FutureWarning: The default value of n_estimators will change from 10 in version 0.20 to 100 in 0.22.\n",
      "  \"10 in version 0.20 to 100 in 0.22.\", FutureWarning)\n"
     ]
    },
    {
     "ename": "KeyboardInterrupt",
     "evalue": "",
     "output_type": "error",
     "traceback": [
      "\u001b[0;31m---------------------------------------------------------------------------\u001b[0m",
      "\u001b[0;31mKeyboardInterrupt\u001b[0m                         Traceback (most recent call last)",
      "\u001b[0;32m<ipython-input-23-c64fe2c351ad>\u001b[0m in \u001b[0;36m<module>\u001b[0;34m\u001b[0m\n\u001b[0;32m----> 1\u001b[0;31m \u001b[0mf_est\u001b[0m \u001b[0;34m=\u001b[0m \u001b[0mdsea\u001b[0m\u001b[0;34m(\u001b[0m\u001b[0mX_eval\u001b[0m\u001b[0;34m,\u001b[0m \u001b[0mX_train\u001b[0m\u001b[0;34m,\u001b[0m \u001b[0my_train_cls\u001b[0m\u001b[0;34m,\u001b[0m \u001b[0mRandomForestClassifier\u001b[0m\u001b[0;34m(\u001b[0m\u001b[0mmax_depth\u001b[0m\u001b[0;34m=\u001b[0m\u001b[0;36m3\u001b[0m\u001b[0;34m,\u001b[0m \u001b[0mrandom_state\u001b[0m\u001b[0;34m=\u001b[0m\u001b[0;36m0\u001b[0m\u001b[0;34m)\u001b[0m\u001b[0;34m,\u001b[0m \u001b[0mK\u001b[0m\u001b[0;34m=\u001b[0m\u001b[0;36m3\u001b[0m\u001b[0;34m)\u001b[0m\u001b[0;34m\u001b[0m\u001b[0;34m\u001b[0m\u001b[0m\n\u001b[0m\u001b[1;32m      2\u001b[0m \u001b[0mf_est\u001b[0m\u001b[0;34m\u001b[0m\u001b[0;34m\u001b[0m\u001b[0m\n",
      "\u001b[0;32m~/CherenkovDeconvolution.py/cherenkovdeconvolution/methods/dsea.py\u001b[0m in \u001b[0;36mdeconvolve\u001b[0;34m(X_data, X_train, y_train, classifier, bins, f_0, fixweighting, alpha, smoothing, K, epsilon, inspect, return_contributions)\u001b[0m\n\u001b[1;32m    119\u001b[0m \u001b[0;34m\u001b[0m\u001b[0m\n\u001b[1;32m    120\u001b[0m         \u001b[0;31m# === update the estimate ===\u001b[0m\u001b[0;34m\u001b[0m\u001b[0;34m\u001b[0m\u001b[0;34m\u001b[0m\u001b[0m\n\u001b[0;32m--> 121\u001b[0;31m         \u001b[0mproba\u001b[0m     \u001b[0;34m=\u001b[0m \u001b[0m_train_and_predict_proba\u001b[0m\u001b[0;34m(\u001b[0m\u001b[0mclassifier\u001b[0m\u001b[0;34m,\u001b[0m \u001b[0mX_data\u001b[0m\u001b[0;34m,\u001b[0m \u001b[0mX_train\u001b[0m\u001b[0;34m,\u001b[0m \u001b[0my_train\u001b[0m\u001b[0;34m,\u001b[0m \u001b[0mw_train\u001b[0m\u001b[0;34m)\u001b[0m\u001b[0;34m\u001b[0m\u001b[0;34m\u001b[0m\u001b[0m\n\u001b[0m\u001b[1;32m    122\u001b[0m         \u001b[0mf_next\u001b[0m    \u001b[0;34m=\u001b[0m \u001b[0m_dsea_reconstruct\u001b[0m\u001b[0;34m(\u001b[0m\u001b[0mproba\u001b[0m\u001b[0;34m)\u001b[0m \u001b[0;31m# original DSEA reconstruction\u001b[0m\u001b[0;34m\u001b[0m\u001b[0;34m\u001b[0m\u001b[0m\n\u001b[1;32m    123\u001b[0m         f, alphak = _dsea_step(\n",
      "\u001b[0;32m~/CherenkovDeconvolution.py/cherenkovdeconvolution/methods/dsea.py\u001b[0m in \u001b[0;36m_train_and_predict_proba\u001b[0;34m(classifier, X_data, X_train, y_train, w_train)\u001b[0m\n\u001b[1;32m    160\u001b[0m \u001b[0;31m# train and apply the classifier to obtain a matrix of confidence values\u001b[0m\u001b[0;34m\u001b[0m\u001b[0;34m\u001b[0m\u001b[0;34m\u001b[0m\u001b[0m\n\u001b[1;32m    161\u001b[0m \u001b[0;32mdef\u001b[0m \u001b[0m_train_and_predict_proba\u001b[0m\u001b[0;34m(\u001b[0m\u001b[0mclassifier\u001b[0m\u001b[0;34m,\u001b[0m \u001b[0mX_data\u001b[0m\u001b[0;34m,\u001b[0m \u001b[0mX_train\u001b[0m\u001b[0;34m,\u001b[0m \u001b[0my_train\u001b[0m\u001b[0;34m,\u001b[0m \u001b[0mw_train\u001b[0m\u001b[0;34m)\u001b[0m\u001b[0;34m:\u001b[0m\u001b[0;34m\u001b[0m\u001b[0;34m\u001b[0m\u001b[0m\n\u001b[0;32m--> 162\u001b[0;31m     \u001b[0mclassifier\u001b[0m\u001b[0;34m.\u001b[0m\u001b[0mfit\u001b[0m\u001b[0;34m(\u001b[0m\u001b[0mX_train\u001b[0m\u001b[0;34m,\u001b[0m \u001b[0my_train\u001b[0m\u001b[0;34m,\u001b[0m \u001b[0mw_train\u001b[0m\u001b[0;34m)\u001b[0m\u001b[0;34m\u001b[0m\u001b[0;34m\u001b[0m\u001b[0m\n\u001b[0m\u001b[1;32m    163\u001b[0m     \u001b[0;32mreturn\u001b[0m \u001b[0mclassifier\u001b[0m\u001b[0;34m.\u001b[0m\u001b[0mpredict_proba\u001b[0m\u001b[0;34m(\u001b[0m\u001b[0mX_data\u001b[0m\u001b[0;34m)\u001b[0m\u001b[0;34m\u001b[0m\u001b[0;34m\u001b[0m\u001b[0m\n\u001b[1;32m    164\u001b[0m \u001b[0;34m\u001b[0m\u001b[0m\n",
      "\u001b[0;32m/opt/anaconda/lib/python3.7/site-packages/sklearn/ensemble/forest.py\u001b[0m in \u001b[0;36mfit\u001b[0;34m(self, X, y, sample_weight)\u001b[0m\n\u001b[1;32m    328\u001b[0m                     \u001b[0mt\u001b[0m\u001b[0;34m,\u001b[0m \u001b[0mself\u001b[0m\u001b[0;34m,\u001b[0m \u001b[0mX\u001b[0m\u001b[0;34m,\u001b[0m \u001b[0my\u001b[0m\u001b[0;34m,\u001b[0m \u001b[0msample_weight\u001b[0m\u001b[0;34m,\u001b[0m \u001b[0mi\u001b[0m\u001b[0;34m,\u001b[0m \u001b[0mlen\u001b[0m\u001b[0;34m(\u001b[0m\u001b[0mtrees\u001b[0m\u001b[0;34m)\u001b[0m\u001b[0;34m,\u001b[0m\u001b[0;34m\u001b[0m\u001b[0;34m\u001b[0m\u001b[0m\n\u001b[1;32m    329\u001b[0m                     verbose=self.verbose, class_weight=self.class_weight)\n\u001b[0;32m--> 330\u001b[0;31m                 for i, t in enumerate(trees))\n\u001b[0m\u001b[1;32m    331\u001b[0m \u001b[0;34m\u001b[0m\u001b[0m\n\u001b[1;32m    332\u001b[0m             \u001b[0;31m# Collect newly grown trees\u001b[0m\u001b[0;34m\u001b[0m\u001b[0;34m\u001b[0m\u001b[0;34m\u001b[0m\u001b[0m\n",
      "\u001b[0;32m/opt/anaconda/lib/python3.7/site-packages/joblib/parallel.py\u001b[0m in \u001b[0;36m__call__\u001b[0;34m(self, iterable)\u001b[0m\n\u001b[1;32m    922\u001b[0m                 \u001b[0mself\u001b[0m\u001b[0;34m.\u001b[0m\u001b[0m_iterating\u001b[0m \u001b[0;34m=\u001b[0m \u001b[0mself\u001b[0m\u001b[0;34m.\u001b[0m\u001b[0m_original_iterator\u001b[0m \u001b[0;32mis\u001b[0m \u001b[0;32mnot\u001b[0m \u001b[0;32mNone\u001b[0m\u001b[0;34m\u001b[0m\u001b[0;34m\u001b[0m\u001b[0m\n\u001b[1;32m    923\u001b[0m \u001b[0;34m\u001b[0m\u001b[0m\n\u001b[0;32m--> 924\u001b[0;31m             \u001b[0;32mwhile\u001b[0m \u001b[0mself\u001b[0m\u001b[0;34m.\u001b[0m\u001b[0mdispatch_one_batch\u001b[0m\u001b[0;34m(\u001b[0m\u001b[0miterator\u001b[0m\u001b[0;34m)\u001b[0m\u001b[0;34m:\u001b[0m\u001b[0;34m\u001b[0m\u001b[0;34m\u001b[0m\u001b[0m\n\u001b[0m\u001b[1;32m    925\u001b[0m                 \u001b[0;32mpass\u001b[0m\u001b[0;34m\u001b[0m\u001b[0;34m\u001b[0m\u001b[0m\n\u001b[1;32m    926\u001b[0m \u001b[0;34m\u001b[0m\u001b[0m\n",
      "\u001b[0;32m/opt/anaconda/lib/python3.7/site-packages/joblib/parallel.py\u001b[0m in \u001b[0;36mdispatch_one_batch\u001b[0;34m(self, iterator)\u001b[0m\n\u001b[1;32m    757\u001b[0m                 \u001b[0;32mreturn\u001b[0m \u001b[0;32mFalse\u001b[0m\u001b[0;34m\u001b[0m\u001b[0;34m\u001b[0m\u001b[0m\n\u001b[1;32m    758\u001b[0m             \u001b[0;32melse\u001b[0m\u001b[0;34m:\u001b[0m\u001b[0;34m\u001b[0m\u001b[0;34m\u001b[0m\u001b[0m\n\u001b[0;32m--> 759\u001b[0;31m                 \u001b[0mself\u001b[0m\u001b[0;34m.\u001b[0m\u001b[0m_dispatch\u001b[0m\u001b[0;34m(\u001b[0m\u001b[0mtasks\u001b[0m\u001b[0;34m)\u001b[0m\u001b[0;34m\u001b[0m\u001b[0;34m\u001b[0m\u001b[0m\n\u001b[0m\u001b[1;32m    760\u001b[0m                 \u001b[0;32mreturn\u001b[0m \u001b[0;32mTrue\u001b[0m\u001b[0;34m\u001b[0m\u001b[0;34m\u001b[0m\u001b[0m\n\u001b[1;32m    761\u001b[0m \u001b[0;34m\u001b[0m\u001b[0m\n",
      "\u001b[0;32m/opt/anaconda/lib/python3.7/site-packages/joblib/parallel.py\u001b[0m in \u001b[0;36m_dispatch\u001b[0;34m(self, batch)\u001b[0m\n\u001b[1;32m    714\u001b[0m         \u001b[0;32mwith\u001b[0m \u001b[0mself\u001b[0m\u001b[0;34m.\u001b[0m\u001b[0m_lock\u001b[0m\u001b[0;34m:\u001b[0m\u001b[0;34m\u001b[0m\u001b[0;34m\u001b[0m\u001b[0m\n\u001b[1;32m    715\u001b[0m             \u001b[0mjob_idx\u001b[0m \u001b[0;34m=\u001b[0m \u001b[0mlen\u001b[0m\u001b[0;34m(\u001b[0m\u001b[0mself\u001b[0m\u001b[0;34m.\u001b[0m\u001b[0m_jobs\u001b[0m\u001b[0;34m)\u001b[0m\u001b[0;34m\u001b[0m\u001b[0;34m\u001b[0m\u001b[0m\n\u001b[0;32m--> 716\u001b[0;31m             \u001b[0mjob\u001b[0m \u001b[0;34m=\u001b[0m \u001b[0mself\u001b[0m\u001b[0;34m.\u001b[0m\u001b[0m_backend\u001b[0m\u001b[0;34m.\u001b[0m\u001b[0mapply_async\u001b[0m\u001b[0;34m(\u001b[0m\u001b[0mbatch\u001b[0m\u001b[0;34m,\u001b[0m \u001b[0mcallback\u001b[0m\u001b[0;34m=\u001b[0m\u001b[0mcb\u001b[0m\u001b[0;34m)\u001b[0m\u001b[0;34m\u001b[0m\u001b[0;34m\u001b[0m\u001b[0m\n\u001b[0m\u001b[1;32m    717\u001b[0m             \u001b[0;31m# A job can complete so quickly than its callback is\u001b[0m\u001b[0;34m\u001b[0m\u001b[0;34m\u001b[0m\u001b[0;34m\u001b[0m\u001b[0m\n\u001b[1;32m    718\u001b[0m             \u001b[0;31m# called before we get here, causing self._jobs to\u001b[0m\u001b[0;34m\u001b[0m\u001b[0;34m\u001b[0m\u001b[0;34m\u001b[0m\u001b[0m\n",
      "\u001b[0;32m/opt/anaconda/lib/python3.7/site-packages/joblib/_parallel_backends.py\u001b[0m in \u001b[0;36mapply_async\u001b[0;34m(self, func, callback)\u001b[0m\n\u001b[1;32m    180\u001b[0m     \u001b[0;32mdef\u001b[0m \u001b[0mapply_async\u001b[0m\u001b[0;34m(\u001b[0m\u001b[0mself\u001b[0m\u001b[0;34m,\u001b[0m \u001b[0mfunc\u001b[0m\u001b[0;34m,\u001b[0m \u001b[0mcallback\u001b[0m\u001b[0;34m=\u001b[0m\u001b[0;32mNone\u001b[0m\u001b[0;34m)\u001b[0m\u001b[0;34m:\u001b[0m\u001b[0;34m\u001b[0m\u001b[0;34m\u001b[0m\u001b[0m\n\u001b[1;32m    181\u001b[0m         \u001b[0;34m\"\"\"Schedule a func to be run\"\"\"\u001b[0m\u001b[0;34m\u001b[0m\u001b[0;34m\u001b[0m\u001b[0m\n\u001b[0;32m--> 182\u001b[0;31m         \u001b[0mresult\u001b[0m \u001b[0;34m=\u001b[0m \u001b[0mImmediateResult\u001b[0m\u001b[0;34m(\u001b[0m\u001b[0mfunc\u001b[0m\u001b[0;34m)\u001b[0m\u001b[0;34m\u001b[0m\u001b[0;34m\u001b[0m\u001b[0m\n\u001b[0m\u001b[1;32m    183\u001b[0m         \u001b[0;32mif\u001b[0m \u001b[0mcallback\u001b[0m\u001b[0;34m:\u001b[0m\u001b[0;34m\u001b[0m\u001b[0;34m\u001b[0m\u001b[0m\n\u001b[1;32m    184\u001b[0m             \u001b[0mcallback\u001b[0m\u001b[0;34m(\u001b[0m\u001b[0mresult\u001b[0m\u001b[0;34m)\u001b[0m\u001b[0;34m\u001b[0m\u001b[0;34m\u001b[0m\u001b[0m\n",
      "\u001b[0;32m/opt/anaconda/lib/python3.7/site-packages/joblib/_parallel_backends.py\u001b[0m in \u001b[0;36m__init__\u001b[0;34m(self, batch)\u001b[0m\n\u001b[1;32m    547\u001b[0m         \u001b[0;31m# Don't delay the application, to avoid keeping the input\u001b[0m\u001b[0;34m\u001b[0m\u001b[0;34m\u001b[0m\u001b[0;34m\u001b[0m\u001b[0m\n\u001b[1;32m    548\u001b[0m         \u001b[0;31m# arguments in memory\u001b[0m\u001b[0;34m\u001b[0m\u001b[0;34m\u001b[0m\u001b[0;34m\u001b[0m\u001b[0m\n\u001b[0;32m--> 549\u001b[0;31m         \u001b[0mself\u001b[0m\u001b[0;34m.\u001b[0m\u001b[0mresults\u001b[0m \u001b[0;34m=\u001b[0m \u001b[0mbatch\u001b[0m\u001b[0;34m(\u001b[0m\u001b[0;34m)\u001b[0m\u001b[0;34m\u001b[0m\u001b[0;34m\u001b[0m\u001b[0m\n\u001b[0m\u001b[1;32m    550\u001b[0m \u001b[0;34m\u001b[0m\u001b[0m\n\u001b[1;32m    551\u001b[0m     \u001b[0;32mdef\u001b[0m \u001b[0mget\u001b[0m\u001b[0;34m(\u001b[0m\u001b[0mself\u001b[0m\u001b[0;34m)\u001b[0m\u001b[0;34m:\u001b[0m\u001b[0;34m\u001b[0m\u001b[0;34m\u001b[0m\u001b[0m\n",
      "\u001b[0;32m/opt/anaconda/lib/python3.7/site-packages/joblib/parallel.py\u001b[0m in \u001b[0;36m__call__\u001b[0;34m(self)\u001b[0m\n\u001b[1;32m    223\u001b[0m         \u001b[0;32mwith\u001b[0m \u001b[0mparallel_backend\u001b[0m\u001b[0;34m(\u001b[0m\u001b[0mself\u001b[0m\u001b[0;34m.\u001b[0m\u001b[0m_backend\u001b[0m\u001b[0;34m,\u001b[0m \u001b[0mn_jobs\u001b[0m\u001b[0;34m=\u001b[0m\u001b[0mself\u001b[0m\u001b[0;34m.\u001b[0m\u001b[0m_n_jobs\u001b[0m\u001b[0;34m)\u001b[0m\u001b[0;34m:\u001b[0m\u001b[0;34m\u001b[0m\u001b[0;34m\u001b[0m\u001b[0m\n\u001b[1;32m    224\u001b[0m             return [func(*args, **kwargs)\n\u001b[0;32m--> 225\u001b[0;31m                     for func, args, kwargs in self.items]\n\u001b[0m\u001b[1;32m    226\u001b[0m \u001b[0;34m\u001b[0m\u001b[0m\n\u001b[1;32m    227\u001b[0m     \u001b[0;32mdef\u001b[0m \u001b[0m__len__\u001b[0m\u001b[0;34m(\u001b[0m\u001b[0mself\u001b[0m\u001b[0;34m)\u001b[0m\u001b[0;34m:\u001b[0m\u001b[0;34m\u001b[0m\u001b[0;34m\u001b[0m\u001b[0m\n",
      "\u001b[0;32m/opt/anaconda/lib/python3.7/site-packages/joblib/parallel.py\u001b[0m in \u001b[0;36m<listcomp>\u001b[0;34m(.0)\u001b[0m\n\u001b[1;32m    223\u001b[0m         \u001b[0;32mwith\u001b[0m \u001b[0mparallel_backend\u001b[0m\u001b[0;34m(\u001b[0m\u001b[0mself\u001b[0m\u001b[0;34m.\u001b[0m\u001b[0m_backend\u001b[0m\u001b[0;34m,\u001b[0m \u001b[0mn_jobs\u001b[0m\u001b[0;34m=\u001b[0m\u001b[0mself\u001b[0m\u001b[0;34m.\u001b[0m\u001b[0m_n_jobs\u001b[0m\u001b[0;34m)\u001b[0m\u001b[0;34m:\u001b[0m\u001b[0;34m\u001b[0m\u001b[0;34m\u001b[0m\u001b[0m\n\u001b[1;32m    224\u001b[0m             return [func(*args, **kwargs)\n\u001b[0;32m--> 225\u001b[0;31m                     for func, args, kwargs in self.items]\n\u001b[0m\u001b[1;32m    226\u001b[0m \u001b[0;34m\u001b[0m\u001b[0m\n\u001b[1;32m    227\u001b[0m     \u001b[0;32mdef\u001b[0m \u001b[0m__len__\u001b[0m\u001b[0;34m(\u001b[0m\u001b[0mself\u001b[0m\u001b[0;34m)\u001b[0m\u001b[0;34m:\u001b[0m\u001b[0;34m\u001b[0m\u001b[0;34m\u001b[0m\u001b[0m\n",
      "\u001b[0;32m/opt/anaconda/lib/python3.7/site-packages/sklearn/ensemble/forest.py\u001b[0m in \u001b[0;36m_parallel_build_trees\u001b[0;34m(tree, forest, X, y, sample_weight, tree_idx, n_trees, verbose, class_weight)\u001b[0m\n\u001b[1;32m    116\u001b[0m             \u001b[0mcurr_sample_weight\u001b[0m \u001b[0;34m*=\u001b[0m \u001b[0mcompute_sample_weight\u001b[0m\u001b[0;34m(\u001b[0m\u001b[0;34m'balanced'\u001b[0m\u001b[0;34m,\u001b[0m \u001b[0my\u001b[0m\u001b[0;34m,\u001b[0m \u001b[0mindices\u001b[0m\u001b[0;34m)\u001b[0m\u001b[0;34m\u001b[0m\u001b[0;34m\u001b[0m\u001b[0m\n\u001b[1;32m    117\u001b[0m \u001b[0;34m\u001b[0m\u001b[0m\n\u001b[0;32m--> 118\u001b[0;31m         \u001b[0mtree\u001b[0m\u001b[0;34m.\u001b[0m\u001b[0mfit\u001b[0m\u001b[0;34m(\u001b[0m\u001b[0mX\u001b[0m\u001b[0;34m,\u001b[0m \u001b[0my\u001b[0m\u001b[0;34m,\u001b[0m \u001b[0msample_weight\u001b[0m\u001b[0;34m=\u001b[0m\u001b[0mcurr_sample_weight\u001b[0m\u001b[0;34m,\u001b[0m \u001b[0mcheck_input\u001b[0m\u001b[0;34m=\u001b[0m\u001b[0;32mFalse\u001b[0m\u001b[0;34m)\u001b[0m\u001b[0;34m\u001b[0m\u001b[0;34m\u001b[0m\u001b[0m\n\u001b[0m\u001b[1;32m    119\u001b[0m     \u001b[0;32melse\u001b[0m\u001b[0;34m:\u001b[0m\u001b[0;34m\u001b[0m\u001b[0;34m\u001b[0m\u001b[0m\n\u001b[1;32m    120\u001b[0m         \u001b[0mtree\u001b[0m\u001b[0;34m.\u001b[0m\u001b[0mfit\u001b[0m\u001b[0;34m(\u001b[0m\u001b[0mX\u001b[0m\u001b[0;34m,\u001b[0m \u001b[0my\u001b[0m\u001b[0;34m,\u001b[0m \u001b[0msample_weight\u001b[0m\u001b[0;34m=\u001b[0m\u001b[0msample_weight\u001b[0m\u001b[0;34m,\u001b[0m \u001b[0mcheck_input\u001b[0m\u001b[0;34m=\u001b[0m\u001b[0;32mFalse\u001b[0m\u001b[0;34m)\u001b[0m\u001b[0;34m\u001b[0m\u001b[0;34m\u001b[0m\u001b[0m\n",
      "\u001b[0;32m/opt/anaconda/lib/python3.7/site-packages/sklearn/tree/tree.py\u001b[0m in \u001b[0;36mfit\u001b[0;34m(self, X, y, sample_weight, check_input, X_idx_sorted)\u001b[0m\n\u001b[1;32m    814\u001b[0m             \u001b[0msample_weight\u001b[0m\u001b[0;34m=\u001b[0m\u001b[0msample_weight\u001b[0m\u001b[0;34m,\u001b[0m\u001b[0;34m\u001b[0m\u001b[0;34m\u001b[0m\u001b[0m\n\u001b[1;32m    815\u001b[0m             \u001b[0mcheck_input\u001b[0m\u001b[0;34m=\u001b[0m\u001b[0mcheck_input\u001b[0m\u001b[0;34m,\u001b[0m\u001b[0;34m\u001b[0m\u001b[0;34m\u001b[0m\u001b[0m\n\u001b[0;32m--> 816\u001b[0;31m             X_idx_sorted=X_idx_sorted)\n\u001b[0m\u001b[1;32m    817\u001b[0m         \u001b[0;32mreturn\u001b[0m \u001b[0mself\u001b[0m\u001b[0;34m\u001b[0m\u001b[0;34m\u001b[0m\u001b[0m\n\u001b[1;32m    818\u001b[0m \u001b[0;34m\u001b[0m\u001b[0m\n",
      "\u001b[0;32m/opt/anaconda/lib/python3.7/site-packages/sklearn/tree/tree.py\u001b[0m in \u001b[0;36mfit\u001b[0;34m(self, X, y, sample_weight, check_input, X_idx_sorted)\u001b[0m\n\u001b[1;32m    378\u001b[0m                                            min_impurity_split)\n\u001b[1;32m    379\u001b[0m \u001b[0;34m\u001b[0m\u001b[0m\n\u001b[0;32m--> 380\u001b[0;31m         \u001b[0mbuilder\u001b[0m\u001b[0;34m.\u001b[0m\u001b[0mbuild\u001b[0m\u001b[0;34m(\u001b[0m\u001b[0mself\u001b[0m\u001b[0;34m.\u001b[0m\u001b[0mtree_\u001b[0m\u001b[0;34m,\u001b[0m \u001b[0mX\u001b[0m\u001b[0;34m,\u001b[0m \u001b[0my\u001b[0m\u001b[0;34m,\u001b[0m \u001b[0msample_weight\u001b[0m\u001b[0;34m,\u001b[0m \u001b[0mX_idx_sorted\u001b[0m\u001b[0;34m)\u001b[0m\u001b[0;34m\u001b[0m\u001b[0;34m\u001b[0m\u001b[0m\n\u001b[0m\u001b[1;32m    381\u001b[0m \u001b[0;34m\u001b[0m\u001b[0m\n\u001b[1;32m    382\u001b[0m         \u001b[0;32mif\u001b[0m \u001b[0mself\u001b[0m\u001b[0;34m.\u001b[0m\u001b[0mn_outputs_\u001b[0m \u001b[0;34m==\u001b[0m \u001b[0;36m1\u001b[0m\u001b[0;34m:\u001b[0m\u001b[0;34m\u001b[0m\u001b[0;34m\u001b[0m\u001b[0m\n",
      "\u001b[0;31mKeyboardInterrupt\u001b[0m: "
     ]
    }
   ],
   "source": [
    "f_est = dsea(X_eval, X_train, y_train_cls, RandomForestClassifier(max_depth=3, random_state=0), K=3)\n",
    "f_est"
   ]
  },
  {
   "cell_type": "code",
   "execution_count": 24,
   "metadata": {},
   "outputs": [
    {
     "data": {
      "image/png": "[encoded data removed]",
      "text/plain": [
       "<Figure size 432x288 with 1 Axes>"
      ]
     },
     "metadata": {
      "needs_background": "light"
     },
     "output_type": "display_data"
    }
   ],
   "source": [
    "plt.bar(np.arange(len(f_est)), f_est)\n",
    "plt.title('predicted pdf')\n",
    "None"
   ]
  },
  {
   "cell_type": "code",
   "execution_count": 25,
   "metadata": {},
   "outputs": [
    {
     "data": {
      "image/png": "[encoded data removed]",
      "text/plain": [
       "<Figure size 432x288 with 1 Axes>"
      ]
     },
     "metadata": {
      "needs_background": "light"
     },
     "output_type": "display_data"
    }
   ],
   "source": [
    "plt.hist(y_eval_cls, histtype='bar', density=True, rwidth=0.8)\n",
    "plt.title('true pdf')\n",
    "None"
   ]
  },
  {
   "cell_type": "markdown",
   "metadata": {},
   "source": [
    "# DSEA: Random Forest with exp. stepsize"
   ]
  },
  {
   "cell_type": "code",
   "execution_count": 24,
   "metadata": {},
   "outputs": [],
   "source": [
    "# first of all, we set up an inspection function, which prints the step size of each iteration\n",
    "def inspect_alpha(k, alpha, chi2s, f): # you can define custom inspection methods to investigate DSEA\n",
    "    print(alpha)"
   ]
  },
  {
   "cell_type": "code",
   "execution_count": 25,
   "metadata": {},
   "outputs": [
    {
     "name": "stdout",
     "output_type": "stream",
     "text": [
      "0\n"
     ]
    },
    {
     "name": "stderr",
     "output_type": "stream",
     "text": [
      "/opt/anaconda/lib/python3.7/site-packages/sklearn/ensemble/forest.py:245: FutureWarning: The default value of n_estimators will change from 10 in version 0.20 to 100 in 0.22.\n",
      "  \"10 in version 0.20 to 100 in 0.22.\", FutureWarning)\n"
     ]
    },
    {
     "name": "stdout",
     "output_type": "stream",
     "text": [
      "1\n",
      "2\n",
      "3\n"
     ]
    }
   ],
   "source": [
    "alpha_exp = stepsize.decay_exp(0.5, 2.0) # start with step size 2\n",
    "f_est_exp = dsea(X_eval, X_train, y_train_cls, RandomForestClassifier(), K = 3, inspect = inspect_alpha,  alpha = alpha_exp)"
   ]
  },
  {
   "cell_type": "code",
   "execution_count": 29,
   "metadata": {},
   "outputs": [
    {
     "data": {
      "text/plain": [
       "array([0.14649345, 0.24617641, 0.22407697, 0.15901749, 0.10013124,\n",
       "       0.05837388, 0.0328108 , 0.01811742, 0.00967758, 0.00512476])"
      ]
     },
     "execution_count": 29,
     "metadata": {},
     "output_type": "execute_result"
    }
   ],
   "source": [
    "_, f_true = np.unique(y_eval_cls, return_counts=True)\n",
    "f_true = f_true/len(y_eval_cls)\n",
    "f_true"
   ]
  },
  {
   "cell_type": "code",
   "execution_count": 30,
   "metadata": {},
   "outputs": [
    {
     "data": {
      "text/plain": [
       "array([0.14500684, 0.24315566, 0.22268841, 0.16008516, 0.10211212,\n",
       "       0.06026018, 0.03283041, 0.01839397, 0.01001941, 0.00544783])"
      ]
     },
     "execution_count": 30,
     "metadata": {},
     "output_type": "execute_result"
    }
   ],
   "source": [
    "f_est_exp"
   ]
  },
  {
   "cell_type": "code",
   "execution_count": 31,
   "metadata": {},
   "outputs": [
    {
     "data": {
      "image/png": "[encoded data removed]",
      "text/plain": [
       "<Figure size 432x288 with 1 Axes>"
      ]
     },
     "metadata": {
      "needs_background": "light"
     },
     "output_type": "display_data"
    }
   ],
   "source": [
    "%matplotlib inline\n",
    "\n",
    "# prepare plot\n",
    "fig, ax = plt.subplots()\n",
    "index = np.arange(10)\n",
    "barwidth = .3\n",
    "\n",
    "# add bar plots\n",
    "ax.bar(index,            f_est_exp,  barwidth, label='estimated target distribution')\n",
    "ax.bar(index + barwidth, f_true, barwidth, label='true target distribution')\n",
    "ax.legend()\n",
    "\n",
    "# show plot\n",
    "plt.xticks(index + barwidth / 2, range(10))\n",
    "plt.xlabel('neutrino energy classes')\n",
    "plt.ylabel('pdf')\n",
    "\n",
    "plt.tight_layout()\n",
    "plt.savefig('output/pdf_dsea_randomforest2.pdf')\n",
    "plt.show()\n",
    "\n",
    "# \n",
    "# Looks good, huh?  :)\n",
    "# \n"
   ]
  }
 ],
 "metadata": {
  "interpreter": {
   "hash": "586ad1ed5c97141e2437e681efbf1ec0adcd17d830cf5af2ca3d2819e743e158"
  },
  "kernelspec": {
   "display_name": "Python 3.7.4 ('base')",
   "language": "python",
   "name": "python3"
  },
  "language_info": {
   "codemirror_mode": {
    "name": "ipython",
    "version": 3
   },
   "file_extension": ".py",
   "mimetype": "text/x-python",
   "name": "python",
   "nbconvert_exporter": "python",
   "pygments_lexer": "ipython3",
   "version": "3.7.4"
  },
  "orig_nbformat": 4
 },
 "nbformat": 4,
 "nbformat_minor": 2
}
