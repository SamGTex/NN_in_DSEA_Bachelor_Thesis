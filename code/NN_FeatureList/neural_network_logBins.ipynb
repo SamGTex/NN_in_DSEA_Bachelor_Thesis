{
 "cells": [
  {
   "cell_type": "markdown",
   "metadata": {},
   "source": [
    "# Imports and Tensorflow set up"
   ]
  },
  {
   "cell_type": "code",
   "execution_count": 1,
   "metadata": {},
   "outputs": [],
   "source": [
    "# workaround if you have not yet installed CherenkovDeconvolution.py but want to try it from this notebook\n",
    "import sys\n",
    "\n",
    "sys.path.insert(0,'/net/nfshome/home/shaefs/CherenkovDeconvolution.py')"
   ]
  },
  {
   "cell_type": "code",
   "execution_count": 2,
   "metadata": {},
   "outputs": [],
   "source": [
    "from cherenkovdeconvolution import dsea\n",
    "\n",
    "import numpy as np\n",
    "np.random.seed(42)\n",
    "\n",
    "import pandas as pd\n",
    "\n",
    "import matplotlib\n",
    "import matplotlib.pyplot as plt\n",
    "%matplotlib inline\n",
    "import seaborn as sns\n",
    "\n",
    "import tensorflow as tf\n",
    "import csv"
   ]
  },
  {
   "cell_type": "code",
   "execution_count": 3,
   "metadata": {},
   "outputs": [
    {
     "data": {
      "text/plain": [
       "[_DeviceAttributes(/job:localhost/replica:0/task:0/device:CPU:0, CPU, 268435456, 5020061459516484584),\n",
       " _DeviceAttributes(/job:localhost/replica:0/task:0/device:XLA_CPU:0, XLA_CPU, 17179869184, 12563897739877181644),\n",
       " _DeviceAttributes(/job:localhost/replica:0/task:0/device:GPU:0, GPU, 22679594599, 3353422164725646961),\n",
       " _DeviceAttributes(/job:localhost/replica:0/task:0/device:GPU:1, GPU, 22679594599, 5928077124112180810),\n",
       " _DeviceAttributes(/job:localhost/replica:0/task:0/device:XLA_GPU:0, XLA_GPU, 17179869184, 3821115251561089935),\n",
       " _DeviceAttributes(/job:localhost/replica:0/task:0/device:XLA_GPU:1, XLA_GPU, 17179869184, 5578814132688480233)]"
      ]
     },
     "execution_count": 3,
     "metadata": {},
     "output_type": "execute_result"
    }
   ],
   "source": [
    "with tf.compat.v1.Session() as sess:\n",
    "  devices = sess.list_devices()\n",
    "devices"
   ]
  },
  {
   "cell_type": "markdown",
   "metadata": {},
   "source": [
    "# Deep Neural Network"
   ]
  },
  {
   "cell_type": "code",
   "execution_count": 4,
   "metadata": {},
   "outputs": [],
   "source": [
    "# train a new model or select existing model_weights\n",
    "model_trained = True\n",
    "weights_name = 'weights_feature_list'"
   ]
  },
  {
   "cell_type": "code",
   "execution_count": 5,
   "metadata": {},
   "outputs": [],
   "source": [
    "# neural network\n",
    "def make_model(num_features, num_classes, learning_rate=0.0005):\n",
    "\n",
    "    model = tf.keras.Sequential()\n",
    "    model.add(tf.keras.layers.Dense(120, input_shape=num_features))\n",
    "    model.add(tf.keras.layers.Dropout(0.2))\n",
    "    model.add(tf.keras.layers.Dense(240, activation='relu'))\n",
    "    model.add(tf.keras.layers.Dropout(0.3))\n",
    "    model.add(tf.keras.layers.Dense(120, activation='relu'))\n",
    "    model.add(tf.keras.layers.Dropout(0.2))\n",
    "    model.add(tf.keras.layers.Dense(12, activation='relu'))\n",
    "    model.add(tf.keras.layers.Dense(num_classes, activation='softmax'))\n",
    "\n",
    "    # compile the NN\n",
    "    opt = tf.keras.optimizers.Adam(learning_rate=learning_rate)\n",
    "    loss = tf.keras.losses.CategoricalCrossentropy()\n",
    "    metric = tf.keras.metrics.CategoricalAccuracy(name=\"categorical_accuracy\", dtype=None)\n",
    "\n",
    "    model.compile(optimizer=opt, loss=loss, metrics=[metric])\n",
    "\n",
    "    return model"
   ]
  },
  {
   "cell_type": "markdown",
   "metadata": {},
   "source": [
    "# Read-in and preprocessing"
   ]
  },
  {
   "cell_type": "code",
   "execution_count": 6,
   "metadata": {},
   "outputs": [],
   "source": [
    "# Feature Selection\n",
    "feature_list = ['SplineMPEDirectHitsICE.n_dir_doms', \n",
    "                        'VariousVariables.Cone_Angle',\n",
    "                        'SplineMPECramerRaoParams.variance_theta',\n",
    "                        'Borderness.Q_ratio_in_border',\n",
    "                        'SplineMPETruncatedEnergy_SPICEMie_BINS_MuEres.value',\n",
    "                        'SplineMPETruncatedEnergy_SPICEMie_DOMS_Neutrino.energy',\n",
    "                        'SplineMPEDirectHitsICB.n_late_doms',\n",
    "                        'Dustyness.n_doms_in_dust',\n",
    "                        'LineFitGeoSplit1Params.n_hits',\n",
    "                        'SplineMPEDirectHitsICC.dir_track_hit_distribution_smoothness',\n",
    "                        'SPEFit2GeoSplit1BayesianFitParams.logl',\n",
    "                        'SplineMPECharacteristicsIC.avg_dom_dist_q_tot_dom']\n",
    "#feature_list = ['MCPrimary.energy']\n",
    "\n"
   ]
  },
  {
   "cell_type": "code",
   "execution_count": 7,
   "metadata": {},
   "outputs": [],
   "source": [
    "# just read-in necessary columns\n",
    "fields = feature_list + ['MCPrimary.energy']"
   ]
  },
  {
   "cell_type": "code",
   "execution_count": 8,
   "metadata": {},
   "outputs": [
    {
     "data": {
      "text/html": [
       "<div>\n",
       "<style scoped>\n",
       "    .dataframe tbody tr th:only-of-type {\n",
       "        vertical-align: middle;\n",
       "    }\n",
       "\n",
       "    .dataframe tbody tr th {\n",
       "        vertical-align: top;\n",
       "    }\n",
       "\n",
       "    .dataframe thead th {\n",
       "        text-align: right;\n",
       "    }\n",
       "</style>\n",
       "<table border=\"1\" class=\"dataframe\">\n",
       "  <thead>\n",
       "    <tr style=\"text-align: right;\">\n",
       "      <th></th>\n",
       "      <th>SplineMPECramerRaoParams.variance_theta</th>\n",
       "      <th>SplineMPETruncatedEnergy_SPICEMie_DOMS_Neutrino.energy</th>\n",
       "      <th>MCPrimary.energy</th>\n",
       "      <th>SplineMPEDirectHitsICC.dir_track_hit_distribution_smoothness</th>\n",
       "      <th>SplineMPETruncatedEnergy_SPICEMie_BINS_MuEres.value</th>\n",
       "      <th>SplineMPECharacteristicsIC.avg_dom_dist_q_tot_dom</th>\n",
       "      <th>LineFitGeoSplit1Params.n_hits</th>\n",
       "      <th>SplineMPEDirectHitsICB.n_late_doms</th>\n",
       "      <th>SplineMPEDirectHitsICE.n_dir_doms</th>\n",
       "      <th>Borderness.Q_ratio_in_border</th>\n",
       "      <th>SPEFit2GeoSplit1BayesianFitParams.logl</th>\n",
       "      <th>Dustyness.n_doms_in_dust</th>\n",
       "      <th>VariousVariables.Cone_Angle</th>\n",
       "    </tr>\n",
       "  </thead>\n",
       "  <tbody>\n",
       "    <tr>\n",
       "      <th>0</th>\n",
       "      <td>0.000138</td>\n",
       "      <td>20601.845970</td>\n",
       "      <td>3086.645078</td>\n",
       "      <td>-0.147665</td>\n",
       "      <td>0.397322</td>\n",
       "      <td>41.003142</td>\n",
       "      <td>19.0</td>\n",
       "      <td>34.0</td>\n",
       "      <td>20.0</td>\n",
       "      <td>0.101743</td>\n",
       "      <td>158.569898</td>\n",
       "      <td>0.175000</td>\n",
       "      <td>0.022686</td>\n",
       "    </tr>\n",
       "    <tr>\n",
       "      <th>1</th>\n",
       "      <td>0.003101</td>\n",
       "      <td>9461.487291</td>\n",
       "      <td>193.041166</td>\n",
       "      <td>0.344174</td>\n",
       "      <td>0.545559</td>\n",
       "      <td>50.324590</td>\n",
       "      <td>39.0</td>\n",
       "      <td>13.0</td>\n",
       "      <td>11.0</td>\n",
       "      <td>0.011322</td>\n",
       "      <td>272.450606</td>\n",
       "      <td>0.057143</td>\n",
       "      <td>0.097690</td>\n",
       "    </tr>\n",
       "    <tr>\n",
       "      <th>2</th>\n",
       "      <td>0.000325</td>\n",
       "      <td>43222.679757</td>\n",
       "      <td>862.503704</td>\n",
       "      <td>0.281681</td>\n",
       "      <td>0.463602</td>\n",
       "      <td>39.265226</td>\n",
       "      <td>21.0</td>\n",
       "      <td>20.0</td>\n",
       "      <td>17.0</td>\n",
       "      <td>0.618235</td>\n",
       "      <td>73.385557</td>\n",
       "      <td>0.217391</td>\n",
       "      <td>0.049914</td>\n",
       "    </tr>\n",
       "    <tr>\n",
       "      <th>3</th>\n",
       "      <td>0.000066</td>\n",
       "      <td>9929.465219</td>\n",
       "      <td>288.757353</td>\n",
       "      <td>0.222210</td>\n",
       "      <td>0.397322</td>\n",
       "      <td>16.576652</td>\n",
       "      <td>12.0</td>\n",
       "      <td>16.0</td>\n",
       "      <td>13.0</td>\n",
       "      <td>0.041282</td>\n",
       "      <td>81.277756</td>\n",
       "      <td>0.875000</td>\n",
       "      <td>0.023061</td>\n",
       "    </tr>\n",
       "    <tr>\n",
       "      <th>4</th>\n",
       "      <td>0.001243</td>\n",
       "      <td>14979.867844</td>\n",
       "      <td>1838.155763</td>\n",
       "      <td>-0.233723</td>\n",
       "      <td>0.545559</td>\n",
       "      <td>11.832243</td>\n",
       "      <td>16.0</td>\n",
       "      <td>16.0</td>\n",
       "      <td>13.0</td>\n",
       "      <td>0.979636</td>\n",
       "      <td>90.623889</td>\n",
       "      <td>0.294118</td>\n",
       "      <td>0.222784</td>\n",
       "    </tr>\n",
       "    <tr>\n",
       "      <th>...</th>\n",
       "      <td>...</td>\n",
       "      <td>...</td>\n",
       "      <td>...</td>\n",
       "      <td>...</td>\n",
       "      <td>...</td>\n",
       "      <td>...</td>\n",
       "      <td>...</td>\n",
       "      <td>...</td>\n",
       "      <td>...</td>\n",
       "      <td>...</td>\n",
       "      <td>...</td>\n",
       "      <td>...</td>\n",
       "      <td>...</td>\n",
       "    </tr>\n",
       "    <tr>\n",
       "      <th>13336408</th>\n",
       "      <td>0.002613</td>\n",
       "      <td>28988.905556</td>\n",
       "      <td>2680.561232</td>\n",
       "      <td>-0.204343</td>\n",
       "      <td>0.545559</td>\n",
       "      <td>24.473264</td>\n",
       "      <td>5.0</td>\n",
       "      <td>13.0</td>\n",
       "      <td>11.0</td>\n",
       "      <td>0.000000</td>\n",
       "      <td>56.708233</td>\n",
       "      <td>0.000000</td>\n",
       "      <td>0.149460</td>\n",
       "    </tr>\n",
       "    <tr>\n",
       "      <th>13336409</th>\n",
       "      <td>0.000112</td>\n",
       "      <td>13010.699980</td>\n",
       "      <td>1695.794619</td>\n",
       "      <td>0.567237</td>\n",
       "      <td>0.342283</td>\n",
       "      <td>41.072783</td>\n",
       "      <td>110.0</td>\n",
       "      <td>58.0</td>\n",
       "      <td>23.0</td>\n",
       "      <td>0.002037</td>\n",
       "      <td>302.582772</td>\n",
       "      <td>0.555556</td>\n",
       "      <td>0.134817</td>\n",
       "    </tr>\n",
       "    <tr>\n",
       "      <th>13336410</th>\n",
       "      <td>0.010503</td>\n",
       "      <td>15232.377792</td>\n",
       "      <td>579.684909</td>\n",
       "      <td>0.317987</td>\n",
       "      <td>0.545559</td>\n",
       "      <td>45.828011</td>\n",
       "      <td>13.0</td>\n",
       "      <td>19.0</td>\n",
       "      <td>17.0</td>\n",
       "      <td>0.274274</td>\n",
       "      <td>108.338541</td>\n",
       "      <td>0.125000</td>\n",
       "      <td>0.090354</td>\n",
       "    </tr>\n",
       "    <tr>\n",
       "      <th>13336411</th>\n",
       "      <td>0.004765</td>\n",
       "      <td>19444.610677</td>\n",
       "      <td>205.607328</td>\n",
       "      <td>0.341417</td>\n",
       "      <td>0.545559</td>\n",
       "      <td>42.645669</td>\n",
       "      <td>13.0</td>\n",
       "      <td>12.0</td>\n",
       "      <td>8.0</td>\n",
       "      <td>0.000000</td>\n",
       "      <td>107.530913</td>\n",
       "      <td>0.000000</td>\n",
       "      <td>0.128185</td>\n",
       "    </tr>\n",
       "    <tr>\n",
       "      <th>13336412</th>\n",
       "      <td>0.000137</td>\n",
       "      <td>17787.128303</td>\n",
       "      <td>269.859016</td>\n",
       "      <td>-0.265230</td>\n",
       "      <td>0.342283</td>\n",
       "      <td>39.358966</td>\n",
       "      <td>14.0</td>\n",
       "      <td>18.0</td>\n",
       "      <td>16.0</td>\n",
       "      <td>0.113527</td>\n",
       "      <td>88.610707</td>\n",
       "      <td>0.227273</td>\n",
       "      <td>0.045948</td>\n",
       "    </tr>\n",
       "  </tbody>\n",
       "</table>\n",
       "<p>13336413 rows × 13 columns</p>\n",
       "</div>"
      ],
      "text/plain": [
       "          SplineMPECramerRaoParams.variance_theta  \\\n",
       "0                                        0.000138   \n",
       "1                                        0.003101   \n",
       "2                                        0.000325   \n",
       "3                                        0.000066   \n",
       "4                                        0.001243   \n",
       "...                                           ...   \n",
       "13336408                                 0.002613   \n",
       "13336409                                 0.000112   \n",
       "13336410                                 0.010503   \n",
       "13336411                                 0.004765   \n",
       "13336412                                 0.000137   \n",
       "\n",
       "          SplineMPETruncatedEnergy_SPICEMie_DOMS_Neutrino.energy  \\\n",
       "0                                              20601.845970        \n",
       "1                                               9461.487291        \n",
       "2                                              43222.679757        \n",
       "3                                               9929.465219        \n",
       "4                                              14979.867844        \n",
       "...                                                     ...        \n",
       "13336408                                       28988.905556        \n",
       "13336409                                       13010.699980        \n",
       "13336410                                       15232.377792        \n",
       "13336411                                       19444.610677        \n",
       "13336412                                       17787.128303        \n",
       "\n",
       "          MCPrimary.energy  \\\n",
       "0              3086.645078   \n",
       "1               193.041166   \n",
       "2               862.503704   \n",
       "3               288.757353   \n",
       "4              1838.155763   \n",
       "...                    ...   \n",
       "13336408       2680.561232   \n",
       "13336409       1695.794619   \n",
       "13336410        579.684909   \n",
       "13336411        205.607328   \n",
       "13336412        269.859016   \n",
       "\n",
       "          SplineMPEDirectHitsICC.dir_track_hit_distribution_smoothness  \\\n",
       "0                                                 -0.147665              \n",
       "1                                                  0.344174              \n",
       "2                                                  0.281681              \n",
       "3                                                  0.222210              \n",
       "4                                                 -0.233723              \n",
       "...                                                     ...              \n",
       "13336408                                          -0.204343              \n",
       "13336409                                           0.567237              \n",
       "13336410                                           0.317987              \n",
       "13336411                                           0.341417              \n",
       "13336412                                          -0.265230              \n",
       "\n",
       "          SplineMPETruncatedEnergy_SPICEMie_BINS_MuEres.value  \\\n",
       "0                                                  0.397322     \n",
       "1                                                  0.545559     \n",
       "2                                                  0.463602     \n",
       "3                                                  0.397322     \n",
       "4                                                  0.545559     \n",
       "...                                                     ...     \n",
       "13336408                                           0.545559     \n",
       "13336409                                           0.342283     \n",
       "13336410                                           0.545559     \n",
       "13336411                                           0.545559     \n",
       "13336412                                           0.342283     \n",
       "\n",
       "          SplineMPECharacteristicsIC.avg_dom_dist_q_tot_dom  \\\n",
       "0                                                 41.003142   \n",
       "1                                                 50.324590   \n",
       "2                                                 39.265226   \n",
       "3                                                 16.576652   \n",
       "4                                                 11.832243   \n",
       "...                                                     ...   \n",
       "13336408                                          24.473264   \n",
       "13336409                                          41.072783   \n",
       "13336410                                          45.828011   \n",
       "13336411                                          42.645669   \n",
       "13336412                                          39.358966   \n",
       "\n",
       "          LineFitGeoSplit1Params.n_hits  SplineMPEDirectHitsICB.n_late_doms  \\\n",
       "0                                  19.0                                34.0   \n",
       "1                                  39.0                                13.0   \n",
       "2                                  21.0                                20.0   \n",
       "3                                  12.0                                16.0   \n",
       "4                                  16.0                                16.0   \n",
       "...                                 ...                                 ...   \n",
       "13336408                            5.0                                13.0   \n",
       "13336409                          110.0                                58.0   \n",
       "13336410                           13.0                                19.0   \n",
       "13336411                           13.0                                12.0   \n",
       "13336412                           14.0                                18.0   \n",
       "\n",
       "          SplineMPEDirectHitsICE.n_dir_doms  Borderness.Q_ratio_in_border  \\\n",
       "0                                      20.0                      0.101743   \n",
       "1                                      11.0                      0.011322   \n",
       "2                                      17.0                      0.618235   \n",
       "3                                      13.0                      0.041282   \n",
       "4                                      13.0                      0.979636   \n",
       "...                                     ...                           ...   \n",
       "13336408                               11.0                      0.000000   \n",
       "13336409                               23.0                      0.002037   \n",
       "13336410                               17.0                      0.274274   \n",
       "13336411                                8.0                      0.000000   \n",
       "13336412                               16.0                      0.113527   \n",
       "\n",
       "          SPEFit2GeoSplit1BayesianFitParams.logl  Dustyness.n_doms_in_dust  \\\n",
       "0                                     158.569898                  0.175000   \n",
       "1                                     272.450606                  0.057143   \n",
       "2                                      73.385557                  0.217391   \n",
       "3                                      81.277756                  0.875000   \n",
       "4                                      90.623889                  0.294118   \n",
       "...                                          ...                       ...   \n",
       "13336408                               56.708233                  0.000000   \n",
       "13336409                              302.582772                  0.555556   \n",
       "13336410                              108.338541                  0.125000   \n",
       "13336411                              107.530913                  0.000000   \n",
       "13336412                               88.610707                  0.227273   \n",
       "\n",
       "          VariousVariables.Cone_Angle  \n",
       "0                            0.022686  \n",
       "1                            0.097690  \n",
       "2                            0.049914  \n",
       "3                            0.023061  \n",
       "4                            0.222784  \n",
       "...                               ...  \n",
       "13336408                     0.149460  \n",
       "13336409                     0.134817  \n",
       "13336410                     0.090354  \n",
       "13336411                     0.128185  \n",
       "13336412                     0.045948  \n",
       "\n",
       "[13336413 rows x 13 columns]"
      ]
     },
     "execution_count": 8,
     "metadata": {},
     "output_type": "execute_result"
    }
   ],
   "source": [
    "# read in data\n",
    "file_path = '/net/big-tank/POOL/users/lkardum/new_mc_binning.csv'\n",
    "df_raw = pd.read_csv(file_path, skipinitialspace=True, usecols=fields)\n",
    "df_raw"
   ]
  },
  {
   "cell_type": "code",
   "execution_count": 9,
   "metadata": {},
   "outputs": [],
   "source": [
    "# drop critical rows\n",
    "df = df_raw.drop([ 1007671,  1426233,  2304853,  2715790,  3674355,  3741687, 4178063,  4969266,  5038333,  5334552,  5589516,  5863719,\n",
    " 5978972,  7006367,  7281704,  7509650,  8380383,  8758113,9043798, 10280382, 11179530, 11184928, 11332586, 11797767,12253944], axis = 0)\n",
    "\n",
    "# substitute NaNs with extreme Value\n",
    "df.fillna(value =-100000, inplace = True)"
   ]
  },
  {
   "cell_type": "code",
   "execution_count": 10,
   "metadata": {},
   "outputs": [
    {
     "data": {
      "text/plain": [
       "['SplineMPECramerRaoParams.variance_theta',\n",
       " 'SplineMPETruncatedEnergy_SPICEMie_DOMS_Neutrino.energy',\n",
       " 'MCPrimary.energy',\n",
       " 'SplineMPEDirectHitsICC.dir_track_hit_distribution_smoothness',\n",
       " 'SplineMPETruncatedEnergy_SPICEMie_BINS_MuEres.value',\n",
       " 'SplineMPECharacteristicsIC.avg_dom_dist_q_tot_dom',\n",
       " 'LineFitGeoSplit1Params.n_hits',\n",
       " 'SplineMPEDirectHitsICB.n_late_doms',\n",
       " 'SplineMPEDirectHitsICE.n_dir_doms',\n",
       " 'Borderness.Q_ratio_in_border',\n",
       " 'SPEFit2GeoSplit1BayesianFitParams.logl',\n",
       " 'Dustyness.n_doms_in_dust',\n",
       " 'VariousVariables.Cone_Angle']"
      ]
     },
     "execution_count": 10,
     "metadata": {},
     "output_type": "execute_result"
    }
   ],
   "source": [
    "# write column names to csv\n",
    "columns = df.columns.to_list()\n",
    "df_temp = pd.DataFrame(data=columns)\n",
    "df_temp.to_csv('output/columns.csv', index=False)\n",
    "columns"
   ]
  },
  {
   "cell_type": "code",
   "execution_count": 11,
   "metadata": {},
   "outputs": [],
   "source": [
    "# plot correlations between the features\n",
    "\n",
    "# plt.figure(figsize=(200,200))\n",
    "# ax = sns.heatmap(df[feature_list].corr(), annot=True, square=True, cmap='coolwarm')\n",
    "\n",
    "# #fix bug in matlotlib 3.1.0/1\n",
    "# bottom, top = ax.get_ylim()\n",
    "# ax.set_ylim(bottom + 0.5, top - 0.5)\n",
    "# plt.savefig('output/feature_cor.pdf')\n",
    "# plt.show()"
   ]
  },
  {
   "cell_type": "markdown",
   "metadata": {},
   "source": [
    "# Discretize the target Neutrino Energy"
   ]
  },
  {
   "cell_type": "code",
   "execution_count": 12,
   "metadata": {},
   "outputs": [
    {
     "data": {
      "text/plain": [
       "count    1.333639e+07\n",
       "mean     6.298949e+03\n",
       "std      2.457562e+05\n",
       "min      1.000001e+02\n",
       "25%      2.706783e+02\n",
       "50%      5.471676e+02\n",
       "75%      1.416143e+03\n",
       "max      9.970067e+07\n",
       "Name: MCPrimary.energy, dtype: float64"
      ]
     },
     "execution_count": 12,
     "metadata": {},
     "output_type": "execute_result"
    }
   ],
   "source": [
    "# discretize\n",
    "df['MCPrimary.energy'].describe()"
   ]
  },
  {
   "cell_type": "code",
   "execution_count": 28,
   "metadata": {},
   "outputs": [],
   "source": [
    "# Variables: Label\n",
    "# drop out all events with Energies outside the range\n",
    "lower_limit = 100\n",
    "upper_limit = 10**5\n",
    "\n",
    "# Variables: NN\n",
    "num_bins = 10 # number of bins (energy classes), output_shape"
   ]
  },
  {
   "cell_type": "code",
   "execution_count": 29,
   "metadata": {},
   "outputs": [
    {
     "data": {
      "text/html": [
       "<div>\n",
       "<style scoped>\n",
       "    .dataframe tbody tr th:only-of-type {\n",
       "        vertical-align: middle;\n",
       "    }\n",
       "\n",
       "    .dataframe tbody tr th {\n",
       "        vertical-align: top;\n",
       "    }\n",
       "\n",
       "    .dataframe thead th {\n",
       "        text-align: right;\n",
       "    }\n",
       "</style>\n",
       "<table border=\"1\" class=\"dataframe\">\n",
       "  <thead>\n",
       "    <tr style=\"text-align: right;\">\n",
       "      <th></th>\n",
       "      <th>SplineMPECramerRaoParams.variance_theta</th>\n",
       "      <th>SplineMPETruncatedEnergy_SPICEMie_DOMS_Neutrino.energy</th>\n",
       "      <th>MCPrimary.energy</th>\n",
       "      <th>SplineMPEDirectHitsICC.dir_track_hit_distribution_smoothness</th>\n",
       "      <th>SplineMPETruncatedEnergy_SPICEMie_BINS_MuEres.value</th>\n",
       "      <th>SplineMPECharacteristicsIC.avg_dom_dist_q_tot_dom</th>\n",
       "      <th>LineFitGeoSplit1Params.n_hits</th>\n",
       "      <th>SplineMPEDirectHitsICB.n_late_doms</th>\n",
       "      <th>SplineMPEDirectHitsICE.n_dir_doms</th>\n",
       "      <th>Borderness.Q_ratio_in_border</th>\n",
       "      <th>SPEFit2GeoSplit1BayesianFitParams.logl</th>\n",
       "      <th>Dustyness.n_doms_in_dust</th>\n",
       "      <th>VariousVariables.Cone_Angle</th>\n",
       "      <th>E_discr</th>\n",
       "    </tr>\n",
       "  </thead>\n",
       "  <tbody>\n",
       "    <tr>\n",
       "      <th>0</th>\n",
       "      <td>0.000138</td>\n",
       "      <td>20601.845970</td>\n",
       "      <td>3086.645078</td>\n",
       "      <td>-0.147665</td>\n",
       "      <td>0.397322</td>\n",
       "      <td>41.003142</td>\n",
       "      <td>19.0</td>\n",
       "      <td>34.0</td>\n",
       "      <td>20.0</td>\n",
       "      <td>0.101743</td>\n",
       "      <td>158.569898</td>\n",
       "      <td>0.175000</td>\n",
       "      <td>0.022686</td>\n",
       "      <td>2</td>\n",
       "    </tr>\n",
       "    <tr>\n",
       "      <th>1</th>\n",
       "      <td>0.003101</td>\n",
       "      <td>9461.487291</td>\n",
       "      <td>193.041166</td>\n",
       "      <td>0.344174</td>\n",
       "      <td>0.545559</td>\n",
       "      <td>50.324590</td>\n",
       "      <td>39.0</td>\n",
       "      <td>13.0</td>\n",
       "      <td>11.0</td>\n",
       "      <td>0.011322</td>\n",
       "      <td>272.450606</td>\n",
       "      <td>0.057143</td>\n",
       "      <td>0.097690</td>\n",
       "      <td>0</td>\n",
       "    </tr>\n",
       "    <tr>\n",
       "      <th>2</th>\n",
       "      <td>0.000325</td>\n",
       "      <td>43222.679757</td>\n",
       "      <td>862.503704</td>\n",
       "      <td>0.281681</td>\n",
       "      <td>0.463602</td>\n",
       "      <td>39.265226</td>\n",
       "      <td>21.0</td>\n",
       "      <td>20.0</td>\n",
       "      <td>17.0</td>\n",
       "      <td>0.618235</td>\n",
       "      <td>73.385557</td>\n",
       "      <td>0.217391</td>\n",
       "      <td>0.049914</td>\n",
       "      <td>1</td>\n",
       "    </tr>\n",
       "    <tr>\n",
       "      <th>3</th>\n",
       "      <td>0.000066</td>\n",
       "      <td>9929.465219</td>\n",
       "      <td>288.757353</td>\n",
       "      <td>0.222210</td>\n",
       "      <td>0.397322</td>\n",
       "      <td>16.576652</td>\n",
       "      <td>12.0</td>\n",
       "      <td>16.0</td>\n",
       "      <td>13.0</td>\n",
       "      <td>0.041282</td>\n",
       "      <td>81.277756</td>\n",
       "      <td>0.875000</td>\n",
       "      <td>0.023061</td>\n",
       "      <td>0</td>\n",
       "    </tr>\n",
       "    <tr>\n",
       "      <th>4</th>\n",
       "      <td>0.001243</td>\n",
       "      <td>14979.867844</td>\n",
       "      <td>1838.155763</td>\n",
       "      <td>-0.233723</td>\n",
       "      <td>0.545559</td>\n",
       "      <td>11.832243</td>\n",
       "      <td>16.0</td>\n",
       "      <td>16.0</td>\n",
       "      <td>13.0</td>\n",
       "      <td>0.979636</td>\n",
       "      <td>90.623889</td>\n",
       "      <td>0.294118</td>\n",
       "      <td>0.222784</td>\n",
       "      <td>2</td>\n",
       "    </tr>\n",
       "    <tr>\n",
       "      <th>...</th>\n",
       "      <td>...</td>\n",
       "      <td>...</td>\n",
       "      <td>...</td>\n",
       "      <td>...</td>\n",
       "      <td>...</td>\n",
       "      <td>...</td>\n",
       "      <td>...</td>\n",
       "      <td>...</td>\n",
       "      <td>...</td>\n",
       "      <td>...</td>\n",
       "      <td>...</td>\n",
       "      <td>...</td>\n",
       "      <td>...</td>\n",
       "      <td>...</td>\n",
       "    </tr>\n",
       "    <tr>\n",
       "      <th>13336408</th>\n",
       "      <td>0.002613</td>\n",
       "      <td>28988.905556</td>\n",
       "      <td>2680.561232</td>\n",
       "      <td>-0.204343</td>\n",
       "      <td>0.545559</td>\n",
       "      <td>24.473264</td>\n",
       "      <td>5.0</td>\n",
       "      <td>13.0</td>\n",
       "      <td>11.0</td>\n",
       "      <td>0.000000</td>\n",
       "      <td>56.708233</td>\n",
       "      <td>0.000000</td>\n",
       "      <td>0.149460</td>\n",
       "      <td>2</td>\n",
       "    </tr>\n",
       "    <tr>\n",
       "      <th>13336409</th>\n",
       "      <td>0.000112</td>\n",
       "      <td>13010.699980</td>\n",
       "      <td>1695.794619</td>\n",
       "      <td>0.567237</td>\n",
       "      <td>0.342283</td>\n",
       "      <td>41.072783</td>\n",
       "      <td>110.0</td>\n",
       "      <td>58.0</td>\n",
       "      <td>23.0</td>\n",
       "      <td>0.002037</td>\n",
       "      <td>302.582772</td>\n",
       "      <td>0.555556</td>\n",
       "      <td>0.134817</td>\n",
       "      <td>2</td>\n",
       "    </tr>\n",
       "    <tr>\n",
       "      <th>13336410</th>\n",
       "      <td>0.010503</td>\n",
       "      <td>15232.377792</td>\n",
       "      <td>579.684909</td>\n",
       "      <td>0.317987</td>\n",
       "      <td>0.545559</td>\n",
       "      <td>45.828011</td>\n",
       "      <td>13.0</td>\n",
       "      <td>19.0</td>\n",
       "      <td>17.0</td>\n",
       "      <td>0.274274</td>\n",
       "      <td>108.338541</td>\n",
       "      <td>0.125000</td>\n",
       "      <td>0.090354</td>\n",
       "      <td>1</td>\n",
       "    </tr>\n",
       "    <tr>\n",
       "      <th>13336411</th>\n",
       "      <td>0.004765</td>\n",
       "      <td>19444.610677</td>\n",
       "      <td>205.607328</td>\n",
       "      <td>0.341417</td>\n",
       "      <td>0.545559</td>\n",
       "      <td>42.645669</td>\n",
       "      <td>13.0</td>\n",
       "      <td>12.0</td>\n",
       "      <td>8.0</td>\n",
       "      <td>0.000000</td>\n",
       "      <td>107.530913</td>\n",
       "      <td>0.000000</td>\n",
       "      <td>0.128185</td>\n",
       "      <td>0</td>\n",
       "    </tr>\n",
       "    <tr>\n",
       "      <th>13336412</th>\n",
       "      <td>0.000137</td>\n",
       "      <td>17787.128303</td>\n",
       "      <td>269.859016</td>\n",
       "      <td>-0.265230</td>\n",
       "      <td>0.342283</td>\n",
       "      <td>39.358966</td>\n",
       "      <td>14.0</td>\n",
       "      <td>18.0</td>\n",
       "      <td>16.0</td>\n",
       "      <td>0.113527</td>\n",
       "      <td>88.610707</td>\n",
       "      <td>0.227273</td>\n",
       "      <td>0.045948</td>\n",
       "      <td>0</td>\n",
       "    </tr>\n",
       "  </tbody>\n",
       "</table>\n",
       "<p>13262094 rows × 14 columns</p>\n",
       "</div>"
      ],
      "text/plain": [
       "          SplineMPECramerRaoParams.variance_theta  \\\n",
       "0                                        0.000138   \n",
       "1                                        0.003101   \n",
       "2                                        0.000325   \n",
       "3                                        0.000066   \n",
       "4                                        0.001243   \n",
       "...                                           ...   \n",
       "13336408                                 0.002613   \n",
       "13336409                                 0.000112   \n",
       "13336410                                 0.010503   \n",
       "13336411                                 0.004765   \n",
       "13336412                                 0.000137   \n",
       "\n",
       "          SplineMPETruncatedEnergy_SPICEMie_DOMS_Neutrino.energy  \\\n",
       "0                                              20601.845970        \n",
       "1                                               9461.487291        \n",
       "2                                              43222.679757        \n",
       "3                                               9929.465219        \n",
       "4                                              14979.867844        \n",
       "...                                                     ...        \n",
       "13336408                                       28988.905556        \n",
       "13336409                                       13010.699980        \n",
       "13336410                                       15232.377792        \n",
       "13336411                                       19444.610677        \n",
       "13336412                                       17787.128303        \n",
       "\n",
       "          MCPrimary.energy  \\\n",
       "0              3086.645078   \n",
       "1               193.041166   \n",
       "2               862.503704   \n",
       "3               288.757353   \n",
       "4              1838.155763   \n",
       "...                    ...   \n",
       "13336408       2680.561232   \n",
       "13336409       1695.794619   \n",
       "13336410        579.684909   \n",
       "13336411        205.607328   \n",
       "13336412        269.859016   \n",
       "\n",
       "          SplineMPEDirectHitsICC.dir_track_hit_distribution_smoothness  \\\n",
       "0                                                 -0.147665              \n",
       "1                                                  0.344174              \n",
       "2                                                  0.281681              \n",
       "3                                                  0.222210              \n",
       "4                                                 -0.233723              \n",
       "...                                                     ...              \n",
       "13336408                                          -0.204343              \n",
       "13336409                                           0.567237              \n",
       "13336410                                           0.317987              \n",
       "13336411                                           0.341417              \n",
       "13336412                                          -0.265230              \n",
       "\n",
       "          SplineMPETruncatedEnergy_SPICEMie_BINS_MuEres.value  \\\n",
       "0                                                  0.397322     \n",
       "1                                                  0.545559     \n",
       "2                                                  0.463602     \n",
       "3                                                  0.397322     \n",
       "4                                                  0.545559     \n",
       "...                                                     ...     \n",
       "13336408                                           0.545559     \n",
       "13336409                                           0.342283     \n",
       "13336410                                           0.545559     \n",
       "13336411                                           0.545559     \n",
       "13336412                                           0.342283     \n",
       "\n",
       "          SplineMPECharacteristicsIC.avg_dom_dist_q_tot_dom  \\\n",
       "0                                                 41.003142   \n",
       "1                                                 50.324590   \n",
       "2                                                 39.265226   \n",
       "3                                                 16.576652   \n",
       "4                                                 11.832243   \n",
       "...                                                     ...   \n",
       "13336408                                          24.473264   \n",
       "13336409                                          41.072783   \n",
       "13336410                                          45.828011   \n",
       "13336411                                          42.645669   \n",
       "13336412                                          39.358966   \n",
       "\n",
       "          LineFitGeoSplit1Params.n_hits  SplineMPEDirectHitsICB.n_late_doms  \\\n",
       "0                                  19.0                                34.0   \n",
       "1                                  39.0                                13.0   \n",
       "2                                  21.0                                20.0   \n",
       "3                                  12.0                                16.0   \n",
       "4                                  16.0                                16.0   \n",
       "...                                 ...                                 ...   \n",
       "13336408                            5.0                                13.0   \n",
       "13336409                          110.0                                58.0   \n",
       "13336410                           13.0                                19.0   \n",
       "13336411                           13.0                                12.0   \n",
       "13336412                           14.0                                18.0   \n",
       "\n",
       "          SplineMPEDirectHitsICE.n_dir_doms  Borderness.Q_ratio_in_border  \\\n",
       "0                                      20.0                      0.101743   \n",
       "1                                      11.0                      0.011322   \n",
       "2                                      17.0                      0.618235   \n",
       "3                                      13.0                      0.041282   \n",
       "4                                      13.0                      0.979636   \n",
       "...                                     ...                           ...   \n",
       "13336408                               11.0                      0.000000   \n",
       "13336409                               23.0                      0.002037   \n",
       "13336410                               17.0                      0.274274   \n",
       "13336411                                8.0                      0.000000   \n",
       "13336412                               16.0                      0.113527   \n",
       "\n",
       "          SPEFit2GeoSplit1BayesianFitParams.logl  Dustyness.n_doms_in_dust  \\\n",
       "0                                     158.569898                  0.175000   \n",
       "1                                     272.450606                  0.057143   \n",
       "2                                      73.385557                  0.217391   \n",
       "3                                      81.277756                  0.875000   \n",
       "4                                      90.623889                  0.294118   \n",
       "...                                          ...                       ...   \n",
       "13336408                               56.708233                  0.000000   \n",
       "13336409                              302.582772                  0.555556   \n",
       "13336410                              108.338541                  0.125000   \n",
       "13336411                              107.530913                  0.000000   \n",
       "13336412                               88.610707                  0.227273   \n",
       "\n",
       "          VariousVariables.Cone_Angle E_discr  \n",
       "0                            0.022686       2  \n",
       "1                            0.097690       0  \n",
       "2                            0.049914       1  \n",
       "3                            0.023061       0  \n",
       "4                            0.222784       2  \n",
       "...                               ...     ...  \n",
       "13336408                     0.149460       2  \n",
       "13336409                     0.134817       2  \n",
       "13336410                     0.090354       1  \n",
       "13336411                     0.128185       0  \n",
       "13336412                     0.045948       0  \n",
       "\n",
       "[13262094 rows x 14 columns]"
      ]
     },
     "execution_count": 29,
     "metadata": {},
     "output_type": "execute_result"
    }
   ],
   "source": [
    "# throw out extreme high and low energy neutrinos\n",
    "df = df[(df['MCPrimary.energy']<upper_limit) & (df['MCPrimary.energy']>lower_limit)]\n",
    "df"
   ]
  },
  {
   "cell_type": "code",
   "execution_count": 30,
   "metadata": {},
   "outputs": [
    {
     "data": {
      "text/plain": [
       "array([   100.        ,    199.5262315 ,    398.10717055,    794.32823472,\n",
       "         1584.89319246,   3162.27766017,   6309.5734448 ,  12589.25411794,\n",
       "        25118.8643151 ,  50118.72336273, 100000.        ])"
      ]
     },
     "execution_count": 30,
     "metadata": {},
     "output_type": "execute_result"
    }
   ],
   "source": [
    "## log-scaled Binning\n",
    "bins = np.logspace(np.log10(lower_limit), np.log10(upper_limit), num_bins+1)\n",
    "bins"
   ]
  },
  {
   "cell_type": "code",
   "execution_count": 31,
   "metadata": {},
   "outputs": [],
   "source": [
    "# # Equal-frequency Binning\n",
    "\n",
    "# #define function to calculate equal-frequency bins \n",
    "# def equalObs(x, nbin):\n",
    "#     nlen = len(x)\n",
    "#     return np.interp(np.linspace(0, nlen, nbin + 1),\n",
    "#                      np.arange(nlen),\n",
    "#                      np.sort(x))\n",
    "\n",
    "# #create histogram with equal-frequency bins \n",
    "# n, bins, patches = plt.hist(df['MCPrimary.energy'].to_numpy(), equalObs(df['MCPrimary.energy'].to_numpy(), num_bins), edgecolor='black')\n",
    "# plt.show()\n",
    "\n",
    "# #display bin boundaries and frequency per bin \n",
    "# bins, n"
   ]
  },
  {
   "cell_type": "code",
   "execution_count": 32,
   "metadata": {},
   "outputs": [
    {
     "data": {
      "text/plain": [
       "1    3265825\n",
       "2    2971469\n",
       "3    2110752\n",
       "0    1939697\n",
       "4    1327291\n",
       "5     776316\n",
       "6     435447\n",
       "7     239490\n",
       "8     128030\n",
       "9      67777\n",
       "Name: E_discr, dtype: int64"
      ]
     },
     "execution_count": 32,
     "metadata": {},
     "output_type": "execute_result"
    }
   ],
   "source": [
    "# new column with discretized energies\n",
    "\n",
    "df['E_discr'] = pd.cut(df['MCPrimary.energy'], bins=bins, labels=range(len(bins)-1))\n",
    "df['E_discr'].value_counts()"
   ]
  },
  {
   "cell_type": "markdown",
   "metadata": {},
   "source": [
    "# Create target dataset"
   ]
  },
  {
   "cell_type": "code",
   "execution_count": 33,
   "metadata": {},
   "outputs": [
    {
     "data": {
      "text/html": [
       "<div>\n",
       "<style scoped>\n",
       "    .dataframe tbody tr th:only-of-type {\n",
       "        vertical-align: middle;\n",
       "    }\n",
       "\n",
       "    .dataframe tbody tr th {\n",
       "        vertical-align: top;\n",
       "    }\n",
       "\n",
       "    .dataframe thead th {\n",
       "        text-align: right;\n",
       "    }\n",
       "</style>\n",
       "<table border=\"1\" class=\"dataframe\">\n",
       "  <thead>\n",
       "    <tr style=\"text-align: right;\">\n",
       "      <th>E_discr</th>\n",
       "      <th>0</th>\n",
       "      <th>1</th>\n",
       "      <th>2</th>\n",
       "      <th>3</th>\n",
       "      <th>4</th>\n",
       "      <th>5</th>\n",
       "      <th>6</th>\n",
       "      <th>7</th>\n",
       "      <th>8</th>\n",
       "      <th>9</th>\n",
       "    </tr>\n",
       "  </thead>\n",
       "  <tbody>\n",
       "    <tr>\n",
       "      <th>0</th>\n",
       "      <td>0</td>\n",
       "      <td>0</td>\n",
       "      <td>0</td>\n",
       "      <td>0</td>\n",
       "      <td>1</td>\n",
       "      <td>0</td>\n",
       "      <td>0</td>\n",
       "      <td>0</td>\n",
       "      <td>0</td>\n",
       "      <td>0</td>\n",
       "    </tr>\n",
       "    <tr>\n",
       "      <th>1</th>\n",
       "      <td>1</td>\n",
       "      <td>0</td>\n",
       "      <td>0</td>\n",
       "      <td>0</td>\n",
       "      <td>0</td>\n",
       "      <td>0</td>\n",
       "      <td>0</td>\n",
       "      <td>0</td>\n",
       "      <td>0</td>\n",
       "      <td>0</td>\n",
       "    </tr>\n",
       "    <tr>\n",
       "      <th>2</th>\n",
       "      <td>0</td>\n",
       "      <td>0</td>\n",
       "      <td>0</td>\n",
       "      <td>1</td>\n",
       "      <td>0</td>\n",
       "      <td>0</td>\n",
       "      <td>0</td>\n",
       "      <td>0</td>\n",
       "      <td>0</td>\n",
       "      <td>0</td>\n",
       "    </tr>\n",
       "    <tr>\n",
       "      <th>3</th>\n",
       "      <td>0</td>\n",
       "      <td>1</td>\n",
       "      <td>0</td>\n",
       "      <td>0</td>\n",
       "      <td>0</td>\n",
       "      <td>0</td>\n",
       "      <td>0</td>\n",
       "      <td>0</td>\n",
       "      <td>0</td>\n",
       "      <td>0</td>\n",
       "    </tr>\n",
       "    <tr>\n",
       "      <th>4</th>\n",
       "      <td>0</td>\n",
       "      <td>0</td>\n",
       "      <td>0</td>\n",
       "      <td>0</td>\n",
       "      <td>1</td>\n",
       "      <td>0</td>\n",
       "      <td>0</td>\n",
       "      <td>0</td>\n",
       "      <td>0</td>\n",
       "      <td>0</td>\n",
       "    </tr>\n",
       "    <tr>\n",
       "      <th>...</th>\n",
       "      <td>...</td>\n",
       "      <td>...</td>\n",
       "      <td>...</td>\n",
       "      <td>...</td>\n",
       "      <td>...</td>\n",
       "      <td>...</td>\n",
       "      <td>...</td>\n",
       "      <td>...</td>\n",
       "      <td>...</td>\n",
       "      <td>...</td>\n",
       "    </tr>\n",
       "    <tr>\n",
       "      <th>13336408</th>\n",
       "      <td>0</td>\n",
       "      <td>0</td>\n",
       "      <td>0</td>\n",
       "      <td>0</td>\n",
       "      <td>1</td>\n",
       "      <td>0</td>\n",
       "      <td>0</td>\n",
       "      <td>0</td>\n",
       "      <td>0</td>\n",
       "      <td>0</td>\n",
       "    </tr>\n",
       "    <tr>\n",
       "      <th>13336409</th>\n",
       "      <td>0</td>\n",
       "      <td>0</td>\n",
       "      <td>0</td>\n",
       "      <td>0</td>\n",
       "      <td>1</td>\n",
       "      <td>0</td>\n",
       "      <td>0</td>\n",
       "      <td>0</td>\n",
       "      <td>0</td>\n",
       "      <td>0</td>\n",
       "    </tr>\n",
       "    <tr>\n",
       "      <th>13336410</th>\n",
       "      <td>0</td>\n",
       "      <td>0</td>\n",
       "      <td>1</td>\n",
       "      <td>0</td>\n",
       "      <td>0</td>\n",
       "      <td>0</td>\n",
       "      <td>0</td>\n",
       "      <td>0</td>\n",
       "      <td>0</td>\n",
       "      <td>0</td>\n",
       "    </tr>\n",
       "    <tr>\n",
       "      <th>13336411</th>\n",
       "      <td>0</td>\n",
       "      <td>1</td>\n",
       "      <td>0</td>\n",
       "      <td>0</td>\n",
       "      <td>0</td>\n",
       "      <td>0</td>\n",
       "      <td>0</td>\n",
       "      <td>0</td>\n",
       "      <td>0</td>\n",
       "      <td>0</td>\n",
       "    </tr>\n",
       "    <tr>\n",
       "      <th>13336412</th>\n",
       "      <td>0</td>\n",
       "      <td>1</td>\n",
       "      <td>0</td>\n",
       "      <td>0</td>\n",
       "      <td>0</td>\n",
       "      <td>0</td>\n",
       "      <td>0</td>\n",
       "      <td>0</td>\n",
       "      <td>0</td>\n",
       "      <td>0</td>\n",
       "    </tr>\n",
       "  </tbody>\n",
       "</table>\n",
       "<p>13262094 rows × 10 columns</p>\n",
       "</div>"
      ],
      "text/plain": [
       "E_discr   0  1  2  3  4  5  6  7  8  9\n",
       "0         0  0  0  0  1  0  0  0  0  0\n",
       "1         1  0  0  0  0  0  0  0  0  0\n",
       "2         0  0  0  1  0  0  0  0  0  0\n",
       "3         0  1  0  0  0  0  0  0  0  0\n",
       "4         0  0  0  0  1  0  0  0  0  0\n",
       "...      .. .. .. .. .. .. .. .. .. ..\n",
       "13336408  0  0  0  0  1  0  0  0  0  0\n",
       "13336409  0  0  0  0  1  0  0  0  0  0\n",
       "13336410  0  0  1  0  0  0  0  0  0  0\n",
       "13336411  0  1  0  0  0  0  0  0  0  0\n",
       "13336412  0  1  0  0  0  0  0  0  0  0\n",
       "\n",
       "[13262094 rows x 10 columns]"
      ]
     },
     "execution_count": 33,
     "metadata": {},
     "output_type": "execute_result"
    }
   ],
   "source": [
    "# one hot encoded vector (necessary for cce)\n",
    "df_E_dummie = pd.get_dummies(df['E_discr'])\n",
    "df_E_dummie"
   ]
  },
  {
   "cell_type": "code",
   "execution_count": 34,
   "metadata": {},
   "outputs": [
    {
     "data": {
      "text/plain": [
       "(13262094, 10)"
      ]
     },
     "execution_count": 34,
     "metadata": {},
     "output_type": "execute_result"
    }
   ],
   "source": [
    "# target\n",
    "y = df_E_dummie.to_numpy()\n",
    "y.shape"
   ]
  },
  {
   "cell_type": "code",
   "execution_count": 35,
   "metadata": {},
   "outputs": [
    {
     "data": {
      "text/plain": [
       "(13262094, 12)"
      ]
     },
     "execution_count": 35,
     "metadata": {},
     "output_type": "execute_result"
    }
   ],
   "source": [
    "X = df[feature_list].to_numpy()\n",
    "X.shape"
   ]
  },
  {
   "cell_type": "code",
   "execution_count": 36,
   "metadata": {},
   "outputs": [],
   "source": [
    "# subsample size\n",
    "\n",
    "def create_dataset(X, y, subset=0, validation_split=0.3):\n",
    "    # X,y: numpy Array\n",
    "    # subset: size of the subset (Int)\n",
    "    # validation_split: (0, 1) \n",
    "    perm = np.random.permutation(len(X))\n",
    "\n",
    "    if subset:\n",
    "        perm = perm[0:subset]\n",
    "\n",
    "    limit = int(len(perm)*(1-validation_split))\n",
    "\n",
    "    X_train = X[perm[:limit]]\n",
    "    X_eval = X[perm[limit:]]\n",
    "    y_train = y[perm[:limit]]\n",
    "    y_eval = y[perm[limit:]]\n",
    "\n",
    "    return X_train, y_train, X_eval, y_eval"
   ]
  },
  {
   "cell_type": "code",
   "execution_count": 37,
   "metadata": {},
   "outputs": [
    {
     "name": "stdout",
     "output_type": "stream",
     "text": [
      "(11935884, 12) (11935884, 10) (1326210, 12) (1326210, 10)\n"
     ]
    }
   ],
   "source": [
    "X_train, y_train, X_eval, y_eval = create_dataset(X, y, validation_split=0.1, subset=0)\n",
    "print(X_train.shape, y_train.shape, X_eval.shape, y_eval.shape)"
   ]
  },
  {
   "cell_type": "code",
   "execution_count": 38,
   "metadata": {},
   "outputs": [],
   "source": [
    "from sklearn.preprocessing import StandardScaler\n",
    "scaler = StandardScaler()\n",
    "scaler.fit(X_train)\n",
    "X_train = scaler.transform(X_train)\n",
    "X_eval = scaler.transform(X_eval)"
   ]
  },
  {
   "cell_type": "markdown",
   "metadata": {},
   "source": [
    "# Training process"
   ]
  },
  {
   "cell_type": "code",
   "execution_count": 39,
   "metadata": {},
   "outputs": [],
   "source": [
    "# for the right training loss curve\n",
    "class HistoryEpoch(tf.keras.callbacks.Callback):\n",
    "    def __init__(self, data):\n",
    "        self.data = data        \n",
    "        \n",
    "    def on_train_begin(self, logs={}):\n",
    "        self.loss = []\n",
    "        self.acc = []\n",
    "\n",
    "    def on_epoch_end(self, epoch, logs={}):\n",
    "        x, y = self.data\n",
    "        l, a = self.model.evaluate(x, y, verbose=0)\n",
    "        self.loss.append(l)\n",
    "        self.acc.append(a)"
   ]
  },
  {
   "cell_type": "code",
   "execution_count": 40,
   "metadata": {},
   "outputs": [],
   "source": [
    "train_hist = HistoryEpoch((X_train, y_train))\n",
    "eval_hist = HistoryEpoch((X_eval, y_eval))"
   ]
  },
  {
   "cell_type": "code",
   "execution_count": 41,
   "metadata": {},
   "outputs": [
    {
     "name": "stdout",
     "output_type": "stream",
     "text": [
      "Model: \"sequential_1\"\n",
      "_________________________________________________________________\n",
      "Layer (type)                 Output Shape              Param #   \n",
      "=================================================================\n",
      "dense_5 (Dense)              (None, 120)               1560      \n",
      "_________________________________________________________________\n",
      "dropout_3 (Dropout)          (None, 120)               0         \n",
      "_________________________________________________________________\n",
      "dense_6 (Dense)              (None, 240)               29040     \n",
      "_________________________________________________________________\n",
      "dropout_4 (Dropout)          (None, 240)               0         \n",
      "_________________________________________________________________\n",
      "dense_7 (Dense)              (None, 120)               28920     \n",
      "_________________________________________________________________\n",
      "dropout_5 (Dropout)          (None, 120)               0         \n",
      "_________________________________________________________________\n",
      "dense_8 (Dense)              (None, 12)                1452      \n",
      "_________________________________________________________________\n",
      "dense_9 (Dense)              (None, 10)                130       \n",
      "=================================================================\n",
      "Total params: 61,102\n",
      "Trainable params: 61,102\n",
      "Non-trainable params: 0\n",
      "_________________________________________________________________\n"
     ]
    }
   ],
   "source": [
    "model = make_model(num_features=(len(feature_list), ), num_classes=num_bins, learning_rate=0.0005)\n",
    "model.summary()"
   ]
  },
  {
   "cell_type": "code",
   "execution_count": 42,
   "metadata": {},
   "outputs": [],
   "source": [
    "# train model or load weights\n",
    "if not model_trained:\n",
    "    history = model.fit(X_train, y_train, batch_size=2048, epochs=5, validation_data=(X_eval, y_eval)) #, callbacks=[train_hist, eval_hist]\n",
    "else:\n",
    "    model.load_weights(f'model/{weights_name}.h5')"
   ]
  },
  {
   "cell_type": "code",
   "execution_count": 43,
   "metadata": {},
   "outputs": [],
   "source": [
    "# save the model if not trained yet\n",
    "if not model_trained:\n",
    "    model.save_weights(f'model/{weights_name}.h5')"
   ]
  },
  {
   "cell_type": "code",
   "execution_count": 44,
   "metadata": {},
   "outputs": [],
   "source": [
    "# summarize history for loss\n",
    "if not model_trained:\n",
    "    plt.plot(history.history['loss'])\n",
    "    plt.plot(history.history['val_loss'])\n",
    "    plt.title('model loss')\n",
    "    plt.ylabel('loss')\n",
    "    plt.xlabel('epoch')\n",
    "    plt.legend(['training', 'validation'], loc='upper right')\n",
    "    plt.show()"
   ]
  },
  {
   "cell_type": "code",
   "execution_count": 49,
   "metadata": {},
   "outputs": [],
   "source": [
    "# summarize history for accuracy\n",
    "if not model_trained:\n",
    "    plt.plot(history.history['categorical_accuracy'])\n",
    "    plt.plot(history.history['val_categorical_accuracy'])\n",
    "    plt.title('model accuracy')\n",
    "    plt.ylabel('accuracy')\n",
    "    plt.xlabel('epoch')\n",
    "    plt.legend(['training', 'validation'], loc='lower right')\n",
    "    plt.show()"
   ]
  },
  {
   "cell_type": "markdown",
   "metadata": {},
   "source": [
    "# Predict data / Evaluation"
   ]
  },
  {
   "cell_type": "code",
   "execution_count": 46,
   "metadata": {},
   "outputs": [
    {
     "data": {
      "text/plain": [
       "array([[2.0697355e-02, 3.9815572e-01, 3.1565869e-01, ..., 4.1920920e-03,\n",
       "        1.6031747e-03, 7.2645751e-04],\n",
       "       [3.9415199e-01, 3.6185363e-01, 1.4924397e-01, ..., 1.3832236e-03,\n",
       "        5.5050483e-04, 2.4868464e-04],\n",
       "       [5.2801937e-01, 2.6949263e-01, 1.2551960e-01, ..., 1.0756601e-03,\n",
       "        3.6299290e-04, 1.5254767e-04],\n",
       "       ...,\n",
       "       [8.1144890e-04, 1.4698271e-01, 3.7174323e-01, ..., 1.2835933e-02,\n",
       "        4.9339733e-03, 2.1635315e-03],\n",
       "       [2.3624574e-08, 5.8159704e-04, 4.2080007e-02, ..., 5.5836845e-02,\n",
       "        2.1276543e-02, 9.1228643e-03],\n",
       "       [2.6176527e-01, 3.5101661e-01, 1.9941403e-01, ..., 3.4000480e-03,\n",
       "        1.4253606e-03, 6.1446812e-04]], dtype=float32)"
      ]
     },
     "execution_count": 46,
     "metadata": {},
     "output_type": "execute_result"
    }
   ],
   "source": [
    "# propability for each class\n",
    "y_pred =model.predict(X_eval)\n",
    "y_pred"
   ]
  },
  {
   "cell_type": "code",
   "execution_count": 51,
   "metadata": {},
   "outputs": [
    {
     "data": {
      "text/plain": [
       "array([[0., 1., 0., ..., 0., 0., 0.],\n",
       "       [1., 0., 0., ..., 0., 0., 0.],\n",
       "       [1., 0., 0., ..., 0., 0., 0.],\n",
       "       ...,\n",
       "       [0., 0., 1., ..., 0., 0., 0.],\n",
       "       [0., 0., 0., ..., 0., 0., 0.],\n",
       "       [0., 1., 0., ..., 0., 0., 0.]], dtype=float32)"
      ]
     },
     "execution_count": 51,
     "metadata": {},
     "output_type": "execute_result"
    }
   ],
   "source": [
    "# choose class with max value\n",
    "y_pred_max = np.zeros_like(y_pred)\n",
    "y_pred_max[np.arange(len(y_pred)), y_pred.argmax(1)] = 1\n",
    "y_pred_max"
   ]
  },
  {
   "cell_type": "code",
   "execution_count": 52,
   "metadata": {},
   "outputs": [
    {
     "data": {
      "image/png": "[encoded data removed]",
      "text/plain": [
       "<Figure size 720x432 with 1 Axes>"
      ]
     },
     "metadata": {
      "needs_background": "light"
     },
     "output_type": "display_data"
    }
   ],
   "source": [
    "plt.figure(figsize=(10,6))\n",
    "plt.bar(np.arange(num_bins), y_eval.sum(axis=0)/y_eval.sum(), alpha=0.7, color='red', label='true class')\n",
    "plt.bar(np.arange(num_bins), y_pred_max.sum(axis=0)/y_eval.sum(), alpha=0.7, color='royalblue', label='predicted class')\n",
    "\n",
    "plt.legend()\n",
    "plt.grid()\n",
    "plt.xlabel('Class')\n",
    "plt.ylabel('pdf')\n",
    "plt.xticks(np.arange(num_bins))\n",
    "plt.savefig('output/hist_log.pdf')\n",
    "plt.show()"
   ]
  },
  {
   "cell_type": "code",
   "execution_count": 53,
   "metadata": {},
   "outputs": [],
   "source": [
    "# centers of the bin limits (size reduced by 1)\n",
    "bin_centers = np.array([(bins[i] + (bins[i+1]-bins[i])/2) for i in range(len(bins)-1)])"
   ]
  },
  {
   "cell_type": "code",
   "execution_count": 54,
   "metadata": {},
   "outputs": [
    {
     "data": {
      "text/plain": [
       "array([0, 1, 2, 3, 4, 5, 6, 7, 8, 9])"
      ]
     },
     "execution_count": 54,
     "metadata": {},
     "output_type": "execute_result"
    }
   ],
   "source": [
    "# from one-hot encoded vector label to integer\n",
    "y_eval_cls = np.argmax(y_eval, axis=1)\n",
    "y_pred_cls = np.argmax(y_pred_max, axis=1)\n",
    "np.unique(y_eval_cls)"
   ]
  },
  {
   "cell_type": "code",
   "execution_count": 55,
   "metadata": {},
   "outputs": [
    {
     "data": {
      "text/plain": [
       "array([  149.76311575,   298.81670103,   596.21770264,  1189.61071359,\n",
       "        2373.58542631,  4735.92555249,  9449.41378137, 18854.05921652,\n",
       "       37618.79383891, 75059.36168136])"
      ]
     },
     "execution_count": 55,
     "metadata": {},
     "output_type": "execute_result"
    }
   ],
   "source": [
    "# from integer label to energy\n",
    "y_eval_energy = np.zeros_like(y_eval_cls)\n",
    "y_pred_energy = np.zeros_like(y_pred_cls)\n",
    "\n",
    "for i in range(len(bin_centers)):\n",
    "    y_eval_energy = np.where(y_eval_cls==i, bin_centers[i], y_eval_energy)\n",
    "    y_pred_energy = np.where(y_pred_cls==i, bin_centers[i], y_pred_energy)\n",
    "\n",
    "np.unique(y_eval_energy)"
   ]
  },
  {
   "cell_type": "code",
   "execution_count": 56,
   "metadata": {},
   "outputs": [
    {
     "data": {
      "text/plain": [
       "array([188296.05 , 325729.34 , 293844.84 , 215009.3  , 137480.72 ,\n",
       "        78408.125,  43280.855,  25143.318,  12308.046,   6387.87 ],\n",
       "      dtype=float32)"
      ]
     },
     "execution_count": 56,
     "metadata": {},
     "output_type": "execute_result"
    }
   ],
   "source": [
    "y_pred.sum(axis=0)"
   ]
  },
  {
   "cell_type": "code",
   "execution_count": 57,
   "metadata": {},
   "outputs": [
    {
     "data": {
      "text/plain": [
       "array([194196, 326451, 297301, 211091, 132680,  77667,  43388,  23986,\n",
       "        12694,   6756], dtype=uint64)"
      ]
     },
     "execution_count": 57,
     "metadata": {},
     "output_type": "execute_result"
    }
   ],
   "source": [
    "y_eval.sum(axis=0)"
   ]
  },
  {
   "cell_type": "code",
   "execution_count": 58,
   "metadata": {},
   "outputs": [
    {
     "name": "stdout",
     "output_type": "stream",
     "text": [
      "Percentage deviation between the predicted(sum) and the true energy spectrum:\n",
      "\n",
      "Class 0: 3.13%\n",
      "Class 1: 0.22%\n",
      "Class 2: 1.18%\n",
      "Class 3: -1.82%\n",
      "Class 4: -3.49%\n",
      "Class 5: -0.95%\n",
      "Class 6: 0.25%\n",
      "Class 7: -4.6%\n",
      "Class 8: 3.14%\n",
      "Class 9: 5.76%\n"
     ]
    }
   ],
   "source": [
    "perc_deviation = np.around((y_eval.sum(axis=0)-y_pred.sum(axis=0))*100/y_pred.sum(axis=0), 2)\n",
    "print('Percentage deviation between the predicted(sum) and the true energy spectrum:\\n')\n",
    "for i,dev in enumerate(perc_deviation):\n",
    "    print(f'Class {i}: {dev}%')"
   ]
  },
  {
   "cell_type": "code",
   "execution_count": 59,
   "metadata": {},
   "outputs": [
    {
     "data": {
      "text/plain": [
       "array([188296, 325729, 293845, 215009, 137481,  78408,  43281,  25143,\n",
       "        12308,   6388])"
      ]
     },
     "execution_count": 59,
     "metadata": {},
     "output_type": "execute_result"
    }
   ],
   "source": [
    "y_pred_sum = y_pred.sum(axis=0)\n",
    "y_pred_sum = np.round(y_pred_sum).astype('int')\n",
    "y_pred_sum"
   ]
  },
  {
   "cell_type": "code",
   "execution_count": 60,
   "metadata": {},
   "outputs": [],
   "source": [
    "#(y_eval.sum(axis=0)-y_pred.sum(axis=0))*100/y_eval.sum(axis=0)"
   ]
  },
  {
   "cell_type": "code",
   "execution_count": 61,
   "metadata": {},
   "outputs": [
    {
     "data": {
      "text/plain": [
       "((1325888,), (1326210, 10))"
      ]
     },
     "execution_count": 61,
     "metadata": {},
     "output_type": "execute_result"
    }
   ],
   "source": [
    "# to create the histogram\n",
    "y_pred_sum_energy = np.array([])\n",
    "\n",
    "for i,y in enumerate(y_pred_sum):\n",
    "    y_pred_sum_energy = np.append(y_pred_sum_energy, np.ones(y)*bin_centers[i])\n",
    "\n",
    "y_pred_sum_energy.shape, y_eval.shape"
   ]
  },
  {
   "cell_type": "code",
   "execution_count": 62,
   "metadata": {},
   "outputs": [
    {
     "data": {
      "text/plain": [
       "array([298.81670103, 298.81670103, 596.21770264, ..., 298.81670103,\n",
       "       596.21770264, 596.21770264])"
      ]
     },
     "execution_count": 62,
     "metadata": {},
     "output_type": "execute_result"
    }
   ],
   "source": [
    "y_eval_energy\n"
   ]
  },
  {
   "cell_type": "code",
   "execution_count": 63,
   "metadata": {},
   "outputs": [
    {
     "data": {
      "image/png": "[encoded data removed]",
      "text/plain": [
       "<Figure size 720x432 with 1 Axes>"
      ]
     },
     "metadata": {
      "needs_background": "light"
     },
     "output_type": "display_data"
    }
   ],
   "source": [
    "fig1, ax1 = plt.subplots(figsize=(10, 6))\n",
    "\n",
    "ax1.hist(y_eval_energy, bins=bins, alpha=0.8, color='red', histtype='step', linewidth=1.4, label='true')\n",
    "ax1.hist(y_pred_sum_energy, bins=bins, alpha=0.8, color='royalblue', histtype='step', linewidth=1.4, label='predicted_sum')\n",
    "ax1.hist(y_pred_energy, bins=bins, alpha=0.8, color='green', histtype='step', linewidth=1.4, label='predicted_max')\n",
    "\n",
    "\n",
    "ax1.set_xscale('log')\n",
    "#ax1.set_xticks(bin_centers)\n",
    "ax1.get_xaxis().set_major_formatter(matplotlib.ticker.ScalarFormatter())\n",
    "ax1.set_xlabel('log(E)')\n",
    "\n",
    "ax1.set_ylabel('# Neutrinos')\n",
    "plt.legend()\n",
    "plt.grid()\n",
    "plt.tight_layout()\n",
    "plt.savefig('output/hist_log_energy_sum.pdf')\n",
    "plt.show()"
   ]
  },
  {
   "cell_type": "markdown",
   "metadata": {},
   "source": [
    "# Save predictions as csv file"
   ]
  },
  {
   "cell_type": "code",
   "execution_count": 64,
   "metadata": {},
   "outputs": [],
   "source": [
    "df_pred = pd.DataFrame(data=y_pred, columns=[f'Class {i}' for i in range(num_bins)])\n",
    "df_pred['true label'] = y_eval_cls\n",
    "df_pred.to_csv('output/y_pred.csv', index=False)"
   ]
  },
  {
   "cell_type": "markdown",
   "metadata": {},
   "source": [
    "# Correlation matrix"
   ]
  },
  {
   "cell_type": "code",
   "execution_count": 65,
   "metadata": {},
   "outputs": [
    {
     "data": {
      "image/png": "[encoded data removed]",
      "text/plain": [
       "<Figure size 792x720 with 2 Axes>"
      ]
     },
     "metadata": {
      "needs_background": "light"
     },
     "output_type": "display_data"
    }
   ],
   "source": [
    "df_results = pd.DataFrame(data=y_pred)\n",
    "plt.figure(figsize=(11,10))\n",
    "\n",
    "ax = sns.heatmap(df_results.corr(), annot=True, cmap='coolwarm')\n",
    "bottom, top = ax.get_ylim()\n",
    "ax.set_ylim(bottom + 0.5, top - 0.5)\n",
    "plt.title('Correlation matrix')\n",
    "plt.savefig('output/correlation.png')"
   ]
  },
  {
   "cell_type": "markdown",
   "metadata": {},
   "source": [
    "## Confusion Matrix"
   ]
  },
  {
   "cell_type": "code",
   "execution_count": 66,
   "metadata": {},
   "outputs": [],
   "source": [
    "from sklearn.metrics import confusion_matrix\n",
    "confusion_mtx = confusion_matrix(y_eval_cls, y_pred_cls)"
   ]
  },
  {
   "cell_type": "code",
   "execution_count": 67,
   "metadata": {},
   "outputs": [
    {
     "data": {
      "image/png": "[encoded data removed]",
      "text/plain": [
       "<Figure size 864x720 with 2 Axes>"
      ]
     },
     "metadata": {
      "needs_background": "light"
     },
     "output_type": "display_data"
    }
   ],
   "source": [
    "df_cm = pd.DataFrame(confusion_mtx/confusion_mtx.sum(axis=1)[:, np.newaxis])\n",
    "plt.figure(figsize=(12,10))\n",
    "#fix bug in matlotlib 3.1.0/1\n",
    "\n",
    "ax = sns.heatmap(df_cm, annot=True, cmap='coolwarm')\n",
    "bottom, top = ax.get_ylim()\n",
    "ax.set_ylim(bottom + 0.5, top - 0.5)\n",
    "plt.xlabel('Predicted Label')\n",
    "plt.ylabel('True Label')\n",
    "plt.title('Confusion Matrix (normalized)')\n",
    "plt.savefig('output/cm_log2.pdf')\n",
    "plt.show()"
   ]
  },
  {
   "cell_type": "code",
   "execution_count": 68,
   "metadata": {},
   "outputs": [
    {
     "name": "stdout",
     "output_type": "stream",
     "text": [
      "Evaluation on Evaluation data:\n",
      "Accuracy: 0.3875\n",
      "Precision: 0.3769\n",
      "Recall: 0.3875\n",
      "              precision    recall  f1-score   support\n",
      "\n",
      "           0       0.52      0.58      0.55    194196\n",
      "           1       0.39      0.60      0.47    326451\n",
      "           2       0.35      0.39      0.36    297301\n",
      "           3       0.33      0.22      0.27    211091\n",
      "           4       0.31      0.15      0.21    132680\n",
      "           5       0.32      0.13      0.19     77667\n",
      "           6       0.33      0.13      0.19     43388\n",
      "           7       0.34      0.17      0.22     23986\n",
      "           8       0.42      0.10      0.17     12694\n",
      "           9       0.63      0.14      0.23      6756\n",
      "\n",
      "   micro avg       0.39      0.39      0.39   1326210\n",
      "   macro avg       0.40      0.26      0.29   1326210\n",
      "weighted avg       0.38      0.39      0.37   1326210\n",
      " samples avg       0.39      0.39      0.39   1326210\n",
      "\n"
     ]
    }
   ],
   "source": [
    "from sklearn.metrics import accuracy_score, precision_score, recall_score, classification_report\n",
    "print('Evaluation on Evaluation data:\\r')\n",
    "print('Accuracy: %.4f' % accuracy_score(y_eval, y_pred_max))\n",
    "print(\"Precision: %.4f\" % precision_score(y_eval, y_pred_max, average='weighted'))\n",
    "print(\"Recall: %.4f\" % recall_score(y_eval, y_pred_max, average='weighted'))\n",
    "print(classification_report(y_eval, y_pred_max))"
   ]
  },
  {
   "cell_type": "code",
   "execution_count": 69,
   "metadata": {},
   "outputs": [
    {
     "name": "stdout",
     "output_type": "stream",
     "text": [
      "Jaccard-Score: 0.2403\n"
     ]
    }
   ],
   "source": [
    "from sklearn.metrics import jaccard_score\n",
    "#'micro': Calculate metrics globally by counting the total true positives, false negatives and false positives.\n",
    "#'macro': Calculate metrics for each label, and find their unweighted mean. This does not take label imbalance into account\n",
    "\n",
    "jaccard_score = jaccard_score(y_eval, y_pred_max, average='micro')\n",
    "print('Jaccard-Score: %.4f' % jaccard_score)"
   ]
  },
  {
   "cell_type": "code",
   "execution_count": null,
   "metadata": {},
   "outputs": [],
   "source": []
  }
 ],
 "metadata": {
  "interpreter": {
   "hash": "586ad1ed5c97141e2437e681efbf1ec0adcd17d830cf5af2ca3d2819e743e158"
  },
  "kernelspec": {
   "display_name": "Python 3.7.4 ('base')",
   "language": "python",
   "name": "python3"
  },
  "language_info": {
   "codemirror_mode": {
    "name": "ipython",
    "version": 3
   },
   "file_extension": ".py",
   "mimetype": "text/x-python",
   "name": "python",
   "nbconvert_exporter": "python",
   "pygments_lexer": "ipython3",
   "version": "3.7.4"
  },
  "orig_nbformat": 4
 },
 "nbformat": 4,
 "nbformat_minor": 2
}
